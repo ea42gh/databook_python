{
 "cells": [
  {
   "cell_type": "code",
   "execution_count": null,
   "metadata": {},
   "outputs": [],
   "source": [
    "import holoviews as hv; hv.extension('plotly','bokeh', logo=False)\n",
    "\n",
    "import numpy as np\n",
    "from scipy.integrate import odeint"
   ]
  },
  {
   "cell_type": "code",
   "execution_count": null,
   "metadata": {},
   "outputs": [],
   "source": [
    "a   = 1       # Thermal diffusivity constant\n",
    "L   = 100     # Length of domain\n",
    "N   = 1000    # Number of discretization points\n",
    "dx  = L/N\n",
    "x   = np.arange(-L/2,L/2,dx) # Define x domain\n",
    "\n",
    "# Define discrete wavenumbers\n",
    "kappa = 2*np.pi*np.fft.fftfreq(N, d=dx)\n",
    "\n",
    "# Initial condition\n",
    "u0 = np.zeros_like(x)\n",
    "u0[int((L/2 - L/10)/dx):int((L/2 + L/10)/dx)] = 1\n",
    "u0hat = np.fft.fft(u0)\n",
    "\n",
    "# SciPy's odeint function doesn't play well with complex numbers, so we recast \n",
    "# the state u0hat from an N-element complex vector to a 2N-element real vector\n",
    "u0hat_ri = np.concatenate((u0hat.real,u0hat.imag))\n",
    "\n",
    "# Simulate in Fourier frequency domain\n",
    "dt = 0.1\n",
    "t = np.arange(0,10,dt)\n",
    "\n",
    "def rhsHeat(uhat_ri,t,kappa,a):\n",
    "    uhat = uhat_ri[:N] + (1j) * uhat_ri[N:]\n",
    "    d_uhat = -a**2 * (np.power(kappa,2)) * uhat\n",
    "    d_uhat_ri = np.concatenate((d_uhat.real,d_uhat.imag)).astype('float64')\n",
    "    return d_uhat_ri\n",
    "\n",
    "uhat_ri = odeint(rhsHeat, u0hat_ri, t, args=(kappa,a))\n",
    "\n",
    "uhat = uhat_ri[:,:N] + (1j) * uhat_ri[:,N:]\n",
    "\n",
    "u = np.zeros_like(uhat)\n",
    "\n",
    "for k in range(len(t)):\n",
    "    u[k,:] = np.fft.ifft(uhat[k,:])\n",
    "\n",
    "u = u.real    "
   ]
  },
  {
   "cell_type": "code",
   "execution_count": null,
   "metadata": {},
   "outputs": [],
   "source": [
    "u_plot = u[0:-1:10,:]\n",
    "\n",
    "hv.output( backend='plotly', size=200)\n",
    "hv.Overlay([hv.Path3D((x,j*np.ones(u_plot.shape[1]),u_plot[j,:]), kdims=[\"x\", \"Time step\"], vdims=\"Amplitude\") for j in range(u_plot.shape[0])])"
   ]
  },
  {
   "cell_type": "code",
   "execution_count": null,
   "metadata": {},
   "outputs": [],
   "source": [
    "hv.output( backend='bokeh', holomap=\"scrubber\")\n",
    "hv.HoloMap({i: hv.Curve((x,u_plot[i,:]), \"x\" \"Amplitude\") for i in range(u_plot.shape[0])}, kdims='i')"
   ]
  },
  {
   "cell_type": "code",
   "execution_count": null,
   "metadata": {},
   "outputs": [],
   "source": [
    "hv.Raster(np.flipud(u))"
   ]
  }
 ],
 "metadata": {
  "kernelspec": {
   "display_name": "Python 3 (ipykernel)",
   "language": "python",
   "name": "python3"
  },
  "language_info": {
   "codemirror_mode": {
    "name": "ipython",
    "version": 3
   },
   "file_extension": ".py",
   "mimetype": "text/x-python",
   "name": "python",
   "nbconvert_exporter": "python",
   "pygments_lexer": "ipython3",
   "version": "3.9.12"
  }
 },
 "nbformat": 4,
 "nbformat_minor": 4
}

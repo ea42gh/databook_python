{
 "cells": [
  {
   "cell_type": "code",
   "execution_count": null,
   "metadata": {},
   "outputs": [],
   "source": [
    "import holoviews as hv;  hv.extension('bokeh', logo=False)\n",
    "import numpy as np"
   ]
  },
  {
   "cell_type": "code",
   "execution_count": null,
   "metadata": {},
   "outputs": [],
   "source": [
    "dx = 0.01\n",
    "L = 2*np.pi\n",
    "x = np.arange(0,L+dx,dx)\n",
    "n = len(x)\n",
    "nquart = int(np.floor(n/4))\n",
    "\n",
    "f = np.zeros_like(x)\n",
    "f[nquart:3*nquart] = 1\n",
    "\n",
    "A0 = np.sum(f * np.ones_like(x)) * dx * 2 / L\n",
    "fFS = A0/2 * np.ones_like(f)\n",
    "\n",
    "for k in range(1,101):\n",
    "    Ak = np.sum(f * np.cos(2*np.pi*k*x/L)) * dx * 2 / L\n",
    "    Bk = np.sum(f * np.sin(2*np.pi*k*x/L)) * dx * 2 / L\n",
    "    fFS = fFS + Ak*np.cos(2*k*np.pi*x/L) + Bk*np.sin(2*k*np.pi*x/L)\n",
    "\n",
    "(hv.Curve((x,f), label='original').opts(width=600)*\\\n",
    "hv.Curve((x,fFS),label='recconstructed')).opts(legend_position='right')"
   ]
  }
 ],
 "metadata": {
  "kernelspec": {
   "display_name": "Python 3 (ipykernel)",
   "language": "python",
   "name": "python3"
  },
  "language_info": {
   "codemirror_mode": {
    "name": "ipython",
    "version": 3
   },
   "file_extension": ".py",
   "mimetype": "text/x-python",
   "name": "python",
   "nbconvert_exporter": "python",
   "pygments_lexer": "ipython3",
   "version": "3.9.12"
  }
 },
 "nbformat": 4,
 "nbformat_minor": 4
}

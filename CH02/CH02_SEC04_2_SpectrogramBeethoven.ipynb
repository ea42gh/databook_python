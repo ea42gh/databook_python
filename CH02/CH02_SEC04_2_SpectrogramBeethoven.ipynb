{
 "cells": [
  {
   "cell_type": "code",
   "execution_count": null,
   "id": "c4947e40-29ab-492c-9877-372573e0560e",
   "metadata": {},
   "outputs": [],
   "source": [
    "import scipy\n",
    "import scipy.io\n",
    "import IPython.display\n",
    "import numpy as np\n",
    "import librosa\n",
    "\n",
    "import holoviews as hv; hv.extension('bokeh',logo=False)"
   ]
  },
  {
   "cell_type": "code",
   "execution_count": null,
   "id": "1f7443a8",
   "metadata": {},
   "outputs": [],
   "source": [
    "#Example to load mat file (first 40 seconds)\n",
    "#file = scipy.io.loadmat('../DATA/beethoven_40sec.mat')\n",
    "#sound = file[\"y\"][0] # data\n",
    "#T = int(file[\"T\"][0][0]) # length in seconds\n",
    "#FS = int(file[\"FS\"][0][0]) #sample frequency\n",
    "#samples = T*FS\n",
    "#t = np.arange(samples)"
   ]
  },
  {
   "cell_type": "code",
   "execution_count": null,
   "id": "db4ff4da",
   "metadata": {},
   "outputs": [],
   "source": [
    "#original mp3 file\n",
    "FS = 24000\n",
    "y, sr = librosa.load('../DATA/beethoven.mp3', sr=FS)"
   ]
  },
  {
   "cell_type": "code",
   "execution_count": null,
   "id": "dbb4dc2b-4a7b-420a-bc2c-de31ff1db3c2",
   "metadata": {},
   "outputs": [],
   "source": [
    "hv.Curve((list(range(0,len(y),100)),y[0:len(y):100]), 'time','amplitude').opts(width=900)"
   ]
  },
  {
   "cell_type": "code",
   "execution_count": null,
   "id": "697e8139",
   "metadata": {},
   "outputs": [],
   "source": [
    "IPython.display.Audio(y, rate=FS)\n",
    "\n",
    "#For mat file use command \n",
    "#IPython.display.Audio(sound, rate=FS)"
   ]
  },
  {
   "cell_type": "code",
   "execution_count": null,
   "id": "b3ed82f6-fb46-4040-9c74-93886254c9f7",
   "metadata": {},
   "outputs": [],
   "source": [
    "import scipy\n",
    "sgram = scipy.signal.spectrogram(y, fs=FS, nperseg=8192, noverlap=2048, nfft=8192 )\n",
    "hv.Image( (sgram[1], sgram[0], 10.*np.log10(sgram[2]+1e-10)), kdims=[\"time\", \"frequency\"], vdims=\"magnitude\" ).opts(cmap='jet', height=400, width=800, colorbar=True)"
   ]
  }
 ],
 "metadata": {
  "kernelspec": {
   "display_name": "Python 3 (ipykernel)",
   "language": "python",
   "name": "python3"
  },
  "language_info": {
   "codemirror_mode": {
    "name": "ipython",
    "version": 3
   },
   "file_extension": ".py",
   "mimetype": "text/x-python",
   "name": "python",
   "nbconvert_exporter": "python",
   "pygments_lexer": "ipython3",
   "version": "3.9.12"
  }
 },
 "nbformat": 4,
 "nbformat_minor": 5
}

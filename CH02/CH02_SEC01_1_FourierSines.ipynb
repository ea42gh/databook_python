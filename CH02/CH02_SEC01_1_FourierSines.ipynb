{
 "cells": [
  {
   "cell_type": "code",
   "execution_count": null,
   "metadata": {},
   "outputs": [],
   "source": [
    "import holoviews as hv; hv.extension('bokeh', logo=False)\n",
    "import numpy as np"
   ]
  },
  {
   "cell_type": "code",
   "execution_count": null,
   "metadata": {},
   "outputs": [],
   "source": [
    "# Define domain\n",
    "dx = 0.001\n",
    "L = np.pi\n",
    "x = L * np.arange(-1+dx,1+dx,dx)\n",
    "n = len(x)\n",
    "nquart = int(np.floor(n/4))\n",
    "\n",
    "# Define hat function\n",
    "f = np.zeros_like(x)\n",
    "f[nquart:2*nquart] = (4/n)*np.arange(1,nquart+1)\n",
    "f[2*nquart:3*nquart] = np.ones(nquart) - (4/n)*np.arange(0,nquart)"
   ]
  },
  {
   "cell_type": "code",
   "execution_count": null,
   "metadata": {},
   "outputs": [],
   "source": [
    "# Compute Fourier series\n",
    "A0  = np.sum(f * np.ones_like(x)) * dx\n",
    "fFS = A0/2\n",
    "\n",
    "A = np.zeros(20)\n",
    "B = np.zeros(20)\n",
    "\n",
    "curves = []\n",
    "for k in range(20):\n",
    "    A[k] = np.sum(f * np.cos(np.pi*(k+1)*x/L)) * dx # Inner product\n",
    "    B[k] = np.sum(f * np.sin(np.pi*(k+1)*x/L)) * dx\n",
    "    fFS = fFS + A[k]*np.cos((k+1)*np.pi*x/L) + B[k]*np.sin((k+1)*np.pi*x/L)\n",
    "    curves.append( fFS )\n",
    "\n",
    "hv.Overlay( [hv.Curve( (x,dat)) for dat in curves]).opts( hv.opts.Curve( width=500, show_grid=True))"
   ]
  },
  {
   "cell_type": "code",
   "execution_count": null,
   "metadata": {},
   "outputs": [],
   "source": [
    "## Plot amplitudes\n",
    "\n",
    "fFS  = (A0/2) * np.ones_like(f)\n",
    "kmax = 100\n",
    "A    = np.zeros(kmax)\n",
    "B    = np.zeros(kmax)\n",
    "ERR  = np.zeros(kmax)\n",
    "\n",
    "A[0] = A0/2\n",
    "ERR[0] = np.linalg.norm(f-fFS)/np.linalg.norm(f)\n",
    "\n",
    "for k in range(1,kmax):\n",
    "    A[k] = np.sum(f * np.cos(np.pi*k*x/L)) * dx\n",
    "    B[k] = np.sum(f * np.sin(np.pi*k*x/L)) * dx\n",
    "    fFS = fFS + A[k] * np.cos(k*np.pi*x/L) + B[k] * np.sin(k*np.pi*x/L)\n",
    "    ERR[k] = np.linalg.norm(f-fFS)/np.linalg.norm(f)\n",
    "    \n",
    "thresh = np.median(ERR) * np.sqrt(kmax) * (4/np.sqrt(3))\n",
    "r      = np.max(np.where(ERR > thresh))\n",
    "\n",
    "def clamp(A,val):\n",
    "    return [max(a,val) for a in A]\n",
    "\n",
    "hv.Curve((np.arange(kmax),clamp(A, 1e-18)), \"Error\", \"Coefficient\" ).opts(width=500, logy=True, ylim=(1e-14,1.1), tools=['hover'], title=\"Fourier Coefficients\")*\\\n",
    "hv.Scatter((r,A[r])).opts(size=8,color='red')+\\\n",
    "hv.Curve( (np.arange(kmax),clamp(ERR,1e-18)), \"Index\", \"error\" ).opts(logy=True)*\\\n",
    "hv.Scatter((r,ERR[r]), \"Index\", \"Error\").opts(size=8,color='red')"
   ]
  }
 ],
 "metadata": {
  "kernelspec": {
   "display_name": "Python 3 (ipykernel)",
   "language": "python",
   "name": "python3"
  },
  "language_info": {
   "codemirror_mode": {
    "name": "ipython",
    "version": 3
   },
   "file_extension": ".py",
   "mimetype": "text/x-python",
   "name": "python",
   "nbconvert_exporter": "python",
   "pygments_lexer": "ipython3",
   "version": "3.9.12"
  }
 },
 "nbformat": 4,
 "nbformat_minor": 4
}

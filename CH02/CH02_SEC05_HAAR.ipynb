{
 "cells": [
  {
   "cell_type": "code",
   "execution_count": null,
   "metadata": {},
   "outputs": [],
   "source": [
    "import numpy as np\n",
    "import scipy\n",
    "import holoviews as hv; hv.extension(\"bokeh\", logo=False)"
   ]
  },
  {
   "cell_type": "code",
   "execution_count": null,
   "metadata": {},
   "outputs": [],
   "source": [
    "x  = np.arange(0,1,0.001)\n",
    "n  = len(x)\n",
    "n2 = int(np.floor(n/2))\n",
    "n4 = int(np.floor(n/4))\n",
    "\n",
    "f10      = np.zeros_like(x)\n",
    "f10[:n2] = 1\n",
    "f10[n2:] = -1\n",
    "\n",
    "f21        = np.zeros_like(x)\n",
    "f21[:n4]   = 1\n",
    "f21[n4:n2] = -1\n",
    "f21        = f21 * np.sqrt(2)\n",
    "\n",
    "f22             = np.zeros_like(x)\n",
    "f22[n2:(n2+n4)] = 1\n",
    "f22[(n2+n4):]   = -1\n",
    "f22 = f22 * np.sqrt(2)\n",
    "\n",
    "# x = np.concatenate((-1, 0, x, 1, 2))\n",
    "x   = np.append([-1,0],x)\n",
    "x   = np.append(x,[1,2])\n",
    "\n",
    "f10 = np.pad(f10, (2, 2), 'constant')\n",
    "f21 = np.pad(f21, (2, 2), 'constant')\n",
    "f22 = np.pad(f22, (2, 2), 'constant')"
   ]
  },
  {
   "cell_type": "code",
   "execution_count": null,
   "metadata": {},
   "outputs": [],
   "source": [
    "h=hv.Curve((x,f10))+hv.Curve((x,f21))+hv.Curve((x,f22))\n",
    "h.opts(hv.opts.Curve(width=600, height=100, yticks=3)).cols(1)"
   ]
  },
  {
   "cell_type": "code",
   "execution_count": null,
   "metadata": {},
   "outputs": [],
   "source": [
    "x = np.arange(-5,5,0.001)\n",
    "fMexHat = (1-np.power(x,2)) * np.exp(-np.power(x,2)/2)\n",
    "hv.Curve((x,fMexHat))"
   ]
  }
 ],
 "metadata": {
  "kernelspec": {
   "display_name": "Python 3 (ipykernel)",
   "language": "python",
   "name": "python3"
  },
  "language_info": {
   "codemirror_mode": {
    "name": "ipython",
    "version": 3
   },
   "file_extension": ".py",
   "mimetype": "text/x-python",
   "name": "python",
   "nbconvert_exporter": "python",
   "pygments_lexer": "ipython3",
   "version": "3.9.12"
  }
 },
 "nbformat": 4,
 "nbformat_minor": 4
}

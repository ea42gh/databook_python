{
 "cells": [
  {
   "cell_type": "code",
   "execution_count": null,
   "metadata": {},
   "outputs": [],
   "source": [
    "import holoviews as hv; hv.extension('bokeh', logo=None)\n",
    "import panel as pn;     pn.extension()\n",
    "import numpy as np"
   ]
  },
  {
   "cell_type": "code",
   "execution_count": null,
   "metadata": {},
   "outputs": [],
   "source": [
    "# Create a simple signal with two frequencies\n",
    "dt      = 0.001\n",
    "t       = np.arange(0,1,dt)\n",
    "f       = np.sin(2*np.pi*50*t) + np.sin(2*np.pi*120*t) # Sum of 2 frequencies\n",
    "f_clean = f\n",
    "f       = f + 2.5*np.random.randn(len(t))              # Add some noise"
   ]
  },
  {
   "cell_type": "code",
   "execution_count": null,
   "metadata": {},
   "outputs": [],
   "source": [
    "## Compute the Fast Fourier Transform (FFT)\n",
    "\n",
    "n      = len(t)\n",
    "fhat   = np.fft.fft(f,n)                         # Compute the FFT\n",
    "PSD    = fhat * np.conj(fhat) / n                # Power spectrum (power per freq)\n",
    "freq   = (1/(dt*n)) * np.arange(n)               # Create x-axis of frequencies in Hz\n",
    "L      = np.arange(1,np.floor(n/2),dtype='int')  # Only plot the first half of freqs"
   ]
  },
  {
   "cell_type": "code",
   "execution_count": null,
   "metadata": {},
   "outputs": [],
   "source": [
    "## Use the PSD to filter out noise\n",
    "indices  = PSD > 100                    # Find all freqs with large power\n",
    "PSDclean = PSD * indices                # Zero out all others\n",
    "fhat     = indices * fhat               # Zero out small Fourier coeffs. in Y\n",
    "ffilt    = np.real(np.fft.ifft(fhat))   # Inverse FFT for filtered time signal"
   ]
  },
  {
   "cell_type": "code",
   "execution_count": null,
   "metadata": {},
   "outputs": [],
   "source": [
    "h1 =\\\n",
    "hv.Curve((t, f      ), \"Time\", \"Amplitude\", label=\"Noisy\"   ).opts( width=700, color=\"black\")*\\\n",
    "hv.Curve((t, f_clean), label=\"Clean\")\n",
    "\n",
    "h2 =\\\n",
    "hv.Curve((t, ffilt  ), \"Time\", \"amplitude\", label=\"Filtered\").opts( width=700, color=\"black\")*\\\n",
    "hv.Curve((t, f_clean), label=\"Clean\")\n",
    "\n",
    "h3 =\\\n",
    "hv.Curve((freq[L],np.real(PSD[L])), \"Fewquency\", \"Magnitude\", label=\"Noisy\").opts( width=700, color=\"black\")*\\\n",
    "hv.Curve((freq[L],np.real(PSDclean[L])), label=\"Filtered\")\n",
    "\n",
    "pn.Column( h1, h2, h3 )"
   ]
  }
 ],
 "metadata": {
  "kernelspec": {
   "display_name": "Python 3 (ipykernel)",
   "language": "python",
   "name": "python3"
  },
  "language_info": {
   "codemirror_mode": {
    "name": "ipython",
    "version": 3
   },
   "file_extension": ".py",
   "mimetype": "text/x-python",
   "name": "python",
   "nbconvert_exporter": "python",
   "pygments_lexer": "ipython3",
   "version": "3.9.12"
  }
 },
 "nbformat": 4,
 "nbformat_minor": 4
}

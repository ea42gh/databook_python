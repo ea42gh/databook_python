{
 "cells": [
  {
   "cell_type": "code",
   "execution_count": null,
   "metadata": {},
   "outputs": [],
   "source": [
    "import holoviews as hv; hv.extension('bokeh', logo=None)\n",
    "hv.opts.defaults(hv.opts.Raster(cmap='Viridis', frame_width=300, aspect='equal'))\n",
    "import numpy as np"
   ]
  },
  {
   "cell_type": "code",
   "execution_count": null,
   "metadata": {},
   "outputs": [],
   "source": [
    "n = 256\n",
    "w = np.exp(-1j * 2 * np.pi / n)"
   ]
  },
  {
   "cell_type": "code",
   "execution_count": null,
   "metadata": {},
   "outputs": [],
   "source": [
    "DFT = np.zeros((n,n))\n",
    "\n",
    "# Slow\n",
    "for i in range(n):\n",
    "    for k in range(n):\n",
    "        DFT[i,k] = np.real( w**(i*k))\n",
    "\n",
    "DFT = np.real(DFT)"
   ]
  },
  {
   "cell_type": "code",
   "execution_count": null,
   "metadata": {},
   "outputs": [],
   "source": [
    "hv.Raster(DFT)"
   ]
  },
  {
   "cell_type": "code",
   "execution_count": null,
   "metadata": {},
   "outputs": [],
   "source": [
    "# Fast\n",
    "J,K = np.meshgrid(np.arange(n),np.arange(n))\n",
    "DFT = np.power(w,J*K)\n",
    "DFT = np.real(DFT)\n",
    "\n",
    "hv.Raster(DFT)      "
   ]
  }
 ],
 "metadata": {
  "kernelspec": {
   "display_name": "Python 3 (ipykernel)",
   "language": "python",
   "name": "python3"
  },
  "language_info": {
   "codemirror_mode": {
    "name": "ipython",
    "version": 3
   },
   "file_extension": ".py",
   "mimetype": "text/x-python",
   "name": "python",
   "nbconvert_exporter": "python",
   "pygments_lexer": "ipython3",
   "version": "3.9.12"
  }
 },
 "nbformat": 4,
 "nbformat_minor": 4
}

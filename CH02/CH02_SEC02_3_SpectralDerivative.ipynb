{
 "cells": [
  {
   "cell_type": "code",
   "execution_count": null,
   "metadata": {},
   "outputs": [],
   "source": [
    "import holoviews as hv; hv.extension('bokeh', logo=None)\n",
    "import numpy as np"
   ]
  },
  {
   "cell_type": "code",
   "execution_count": null,
   "metadata": {},
   "outputs": [],
   "source": [
    "n = 128\n",
    "L = 30\n",
    "dx = L/n\n",
    "x = np.arange(-L/2,L/2,dx,dtype='complex_')\n",
    "f = np.cos(x) * np.exp(-np.power(x,2)/25) # Function\n",
    "df = -(np.sin(x) * np.exp(-np.power(x,2)/25) + (2/25)*x*f) # Derivative"
   ]
  },
  {
   "cell_type": "code",
   "execution_count": null,
   "metadata": {},
   "outputs": [],
   "source": [
    "## Approximate derivative using finite difference\n",
    "dfFD = np.zeros(len(df),dtype='complex_')\n",
    "for kappa in range(len(df)-1):\n",
    "    dfFD[kappa] = (f[kappa+1]-f[kappa])/dx\n",
    "    \n",
    "dfFD[-1] = dfFD[-2]"
   ]
  },
  {
   "cell_type": "code",
   "execution_count": null,
   "metadata": {},
   "outputs": [],
   "source": [
    "## Derivative using FFT (spectral derivative)\n",
    "fhat = np.fft.fft(f)\n",
    "kappa = (2*np.pi/L)*np.arange(-n/2,n/2)\n",
    "kappa = np.fft.fftshift(kappa) # Re-order fft frequencies\n",
    "dfhat = kappa * fhat * (1j)\n",
    "dfFFT = np.real(np.fft.ifft(dfhat))\n"
   ]
  },
  {
   "cell_type": "code",
   "execution_count": null,
   "metadata": {},
   "outputs": [],
   "source": [
    "x_r = np.real(x)\n",
    "\n",
    "h=\\\n",
    "hv.Curve((x_r, df.real), label=\"True Derivative\").opts(width=600)*\\\n",
    "hv.Curve((x_r, dfFD.real), label=\"Finite Diff\")*\\\n",
    "hv.Curve((x_r, dfFFT.real), label=\"FFT Derivative\")\n",
    "\n",
    "h"
   ]
  }
 ],
 "metadata": {
  "kernelspec": {
   "display_name": "Python 3 (ipykernel)",
   "language": "python",
   "name": "python3"
  },
  "language_info": {
   "codemirror_mode": {
    "name": "ipython",
    "version": 3
   },
   "file_extension": ".py",
   "mimetype": "text/x-python",
   "name": "python",
   "nbconvert_exporter": "python",
   "pygments_lexer": "ipython3",
   "version": "3.9.12"
  }
 },
 "nbformat": 4,
 "nbformat_minor": 4
}

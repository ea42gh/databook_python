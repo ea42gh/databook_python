{
 "cells": [
  {
   "cell_type": "code",
   "execution_count": null,
   "metadata": {},
   "outputs": [],
   "source": [
    "import numpy as np\n",
    "import scipy.signal\n",
    "import holoviews as hv; hv.extension('bokeh', logo=None)\n",
    "import panel as pn; pn.extension()"
   ]
  },
  {
   "cell_type": "code",
   "execution_count": null,
   "metadata": {},
   "outputs": [],
   "source": [
    "dt = 0.001\n",
    "t = np.arange(0,2,dt)\n",
    "f0 = 50\n",
    "f1 = 225\n",
    "\n",
    "t1 = 2\n",
    "x = np.cos(2*np.pi*t*(f0 + (f1-f0)*np.power(t,2)/(3*t1**2)))"
   ]
  },
  {
   "cell_type": "code",
   "execution_count": null,
   "metadata": {},
   "outputs": [],
   "source": [
    "sgram = scipy.signal.spectrogram(x, fs=1.0/dt, nperseg=128, noverlap=120, nfft=128 )\n",
    "hv.Image( (sgram[1], sgram[0], 10.*np.log10(sgram[2])), kdims=[\"time\", \"frequency\"], vdims=\"magnitude\" ).opts(cmap='jet', height=400, width=600, colorbar=True)"
   ]
  }
 ],
 "metadata": {
  "kernelspec": {
   "display_name": "Python 3 (ipykernel)",
   "language": "python",
   "name": "python3"
  },
  "language_info": {
   "codemirror_mode": {
    "name": "ipython",
    "version": 3
   },
   "file_extension": ".py",
   "mimetype": "text/x-python",
   "name": "python",
   "nbconvert_exporter": "python",
   "pygments_lexer": "ipython3",
   "version": "3.9.12"
  }
 },
 "nbformat": 4,
 "nbformat_minor": 4
}

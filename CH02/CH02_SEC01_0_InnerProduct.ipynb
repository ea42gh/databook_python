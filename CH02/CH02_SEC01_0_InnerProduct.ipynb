{
 "cells": [
  {
   "cell_type": "code",
   "execution_count": null,
   "metadata": {},
   "outputs": [],
   "source": [
    "import holoviews as hv; hv.extension('bokeh', logo=False)\n",
    "import numpy as np\n",
    "from scipy import interpolate"
   ]
  },
  {
   "cell_type": "code",
   "execution_count": null,
   "metadata": {},
   "outputs": [],
   "source": [
    "f = np.array([0, 0, .1, .2, .25, .2, .25, .3, .35, .43, .45, .5, .55, .5, .4, .425, .45, .425, .4, .35, .3, .25, .225, .2, .1, 0, 0])\n",
    "g = np.array([0, 0, .025, .1, .2, .175, .2, .25, .25, .3, .32, .35, .375, .325, .3, .275, .275, .25, .225, .225, .2, .175, .15, .15, .05, 0, 0])\n",
    "g = g - 0.025 * np.ones_like(g)\n",
    "\n",
    "x = 0.1 * np.arange(1,len(f)+1)\n",
    "xf = np.arange(0.1,x[-1],0.01)\n",
    "\n",
    "f_interp = interpolate.interp1d(x, f, kind='cubic')\n",
    "g_interp = interpolate.interp1d(x, g, kind='cubic')\n",
    "\n",
    "ff = f_interp(xf)  \n",
    "gf = g_interp(xf)"
   ]
  },
  {
   "cell_type": "code",
   "execution_count": null,
   "metadata": {},
   "outputs": [],
   "source": [
    "hv.Curve((xf[10:-10],ff[10:-10]))*\\\n",
    "hv.Scatter((x[1:-2],f[1:-2])).opts(size=4,width=400)*\\\n",
    "hv.Curve((xf[10:-10],gf[10:-10]))*\\\n",
    "hv.Scatter((x[1:-2],g[1:-2])).opts(size=4,width=400)"
   ]
  }
 ],
 "metadata": {
  "kernelspec": {
   "display_name": "Python 3 (ipykernel)",
   "language": "python",
   "name": "python3"
  },
  "language_info": {
   "codemirror_mode": {
    "name": "ipython",
    "version": 3
   },
   "file_extension": ".py",
   "mimetype": "text/x-python",
   "name": "python",
   "nbconvert_exporter": "python",
   "pygments_lexer": "ipython3",
   "version": "3.9.12"
  }
 },
 "nbformat": 4,
 "nbformat_minor": 4
}

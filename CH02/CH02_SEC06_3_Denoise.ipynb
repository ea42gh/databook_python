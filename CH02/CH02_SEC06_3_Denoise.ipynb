{
 "cells": [
  {
   "cell_type": "code",
   "execution_count": null,
   "metadata": {},
   "outputs": [],
   "source": [
    "from PIL import Image, ImageOps\n",
    "import numpy as np\n",
    "import os\n",
    "import holoviews as hv; hv.extension('bokeh', logo=False)\n",
    "\n",
    "hv.opts.defaults(hv.opts.Image(cmap=\"gray\",invert_yaxis=True, xaxis=None, yaxis=None, data_aspect=1))"
   ]
  },
  {
   "cell_type": "code",
   "execution_count": null,
   "metadata": {},
   "outputs": [],
   "source": [
    "def image_axes(im):\n",
    "    inch_mm          = 25.4\n",
    "\n",
    "    dpi              = im.info['dpi']\n",
    "    xmax_mm, ymax_mm = im.width/dpi[0]*inch_mm,im.height/dpi[1]*inch_mm\n",
    "    xs               = np.linspace(0,xmax_mm,im.width)\n",
    "    ys               = np.linspace(0,ymax_mm,im.height)\n",
    "    return xs, ys\n",
    "\n",
    "img  = Image.open( os.path.join('..','DATA','dog.jpg') )\n",
    "A    = np.array(img)\n",
    "B    = np.array(ImageOps.grayscale(img)) # Convert RGB to grayscale\n",
    "\n",
    "img_x, img_y = image_axes( img )"
   ]
  },
  {
   "cell_type": "code",
   "execution_count": null,
   "metadata": {},
   "outputs": [],
   "source": [
    "## Denoise\n",
    "Bnoise  = B + 200*np.random.randn(*B.shape).astype('uint8') # Add some noise\n",
    "Bt      = np.fft.fft2(Bnoise)\n",
    "Btshift = np.fft.fftshift(Bt)\n",
    "F       = np.log(np.abs(Btshift)+1)    # Put FFT on log scale"
   ]
  },
  {
   "cell_type": "code",
   "execution_count": null,
   "metadata": {},
   "outputs": [],
   "source": [
    "nx,ny = B.shape\n",
    "X,Y   = np.meshgrid(np.arange(-ny/2+1,ny/2+1),np.arange(-nx/2+1,nx/2+1))\n",
    "# xgrid = np.fft.ifftshift(np.arange(-nx/2+1,nx/2+1))\n",
    "# ygrid = np.fft.ifftshift(np.arange(-ny/2+1,ny/2+1))\n",
    "# X,Y = np.meshgrid(ygrid,xgrid)\n",
    "R2          = np.power(X,2) + np.power(Y,2)\n",
    "ind         = R2 < 150**2\n",
    "Btshiftfilt = Btshift * ind\n",
    "Ffilt       = np.log(np.abs(Btshiftfilt)+1) # Put FFT on log scale\n",
    "\n",
    "Btfilt = np.fft.ifftshift(Btshiftfilt)\n",
    "Bfilt = np.fft.ifft2(Btfilt).real"
   ]
  },
  {
   "cell_type": "code",
   "execution_count": null,
   "metadata": {},
   "outputs": [],
   "source": [
    "h=\\\n",
    "hv.Image((img_x,img_y, Bnoise ), kdims=['x','y'], vdims=\"data\").opts(title='Noisy Image')+\\\n",
    "hv.Image((img_x,img_y, F      ), kdims=['x','y'], vdims=\"data\").opts(title='2D FFT')+\\\n",
    "hv.Image((img_x,img_y, Bfilt ), kdims=['x','y'], vdims=\"data\").opts(title='Denoised Image')+\\\n",
    "hv.Image((img_x,img_y, Ffilt ), kdims=['x','y'], vdims=\"data\").opts(title='Filtered 2D FFT')\n",
    "\n",
    "h.opts(title='Denoised Images', shared_axes=False).cols(2)"
   ]
  }
 ],
 "metadata": {
  "kernelspec": {
   "display_name": "Python 3 (ipykernel)",
   "language": "python",
   "name": "python3"
  },
  "language_info": {
   "codemirror_mode": {
    "name": "ipython",
    "version": 3
   },
   "file_extension": ".py",
   "mimetype": "text/x-python",
   "name": "python",
   "nbconvert_exporter": "python",
   "pygments_lexer": "ipython3",
   "version": "3.9.12"
  }
 },
 "nbformat": 4,
 "nbformat_minor": 4
}

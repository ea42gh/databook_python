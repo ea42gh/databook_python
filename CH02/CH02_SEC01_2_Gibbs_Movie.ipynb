{
 "cells": [
  {
   "cell_type": "code",
   "execution_count": null,
   "metadata": {},
   "outputs": [],
   "source": [
    "import holoviews as hv; hv.extension('bokeh', logo=None)\n",
    "import numpy as np;"
   ]
  },
  {
   "cell_type": "code",
   "execution_count": null,
   "metadata": {},
   "outputs": [],
   "source": [
    "dx = 0.01\n",
    "L = 10\n",
    "x = np.arange(0,L+dx,dx)\n",
    "n = len(x)\n",
    "nquart = int(np.floor(n/4))\n",
    "\n",
    "f = np.zeros_like(x)\n",
    "f[nquart:3*nquart] = 1\n",
    "\n",
    "A0 = np.sum(f * np.ones_like(x)) * dx * 2 / L\n",
    "fFS = A0/2 * np.ones_like(f)"
   ]
  },
  {
   "cell_type": "code",
   "execution_count": null,
   "metadata": {},
   "outputs": [],
   "source": [
    "all_fFS = np.zeros((len(fFS),101))\n",
    "all_fFS[:,0] = fFS\n",
    "\n",
    "for k in range(1,101):\n",
    "    Ak = np.sum(f * np.cos(2*np.pi*k*x/L)) * dx * 2 / L\n",
    "    Bk = np.sum(f * np.sin(2*np.pi*k*x/L)) * dx * 2 / L\n",
    "    fFS = fFS + Ak*np.cos(2*k*np.pi*x/L) + Bk*np.sin(2*k*np.pi*x/L)\n",
    "    all_fFS[:,k] = fFS"
   ]
  },
  {
   "cell_type": "code",
   "execution_count": null,
   "metadata": {},
   "outputs": [],
   "source": [
    "%%output holomap='scrubber'\n",
    "def show_a_holomap():\n",
    "    h =  hv.Curve( (x,f)).opts(width=500)\n",
    "    def ith(i):\n",
    "        return h*hv.Curve( (x,all_fFS[:,i]))\n",
    "\n",
    "    return hv.HoloMap({ i: ith(i) for i in range(all_fFS.shape[1])}).opts(framewise=True)\n",
    "\n",
    "show_a_holomap()"
   ]
  }
 ],
 "metadata": {
  "kernelspec": {
   "display_name": "Python 3 (ipykernel)",
   "language": "python",
   "name": "python3"
  },
  "language_info": {
   "codemirror_mode": {
    "name": "ipython",
    "version": 3
   },
   "file_extension": ".py",
   "mimetype": "text/x-python",
   "name": "python",
   "nbconvert_exporter": "python",
   "pygments_lexer": "ipython3",
   "version": "3.9.12"
  }
 },
 "nbformat": 4,
 "nbformat_minor": 4
}

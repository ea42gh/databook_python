{
 "cells": [
  {
   "cell_type": "code",
   "execution_count": null,
   "metadata": {},
   "outputs": [],
   "source": [
    "import holoviews as hv; hv.extension('plotly','bokeh', logo=False)\n",
    "import panel as pn;     pn.extension()\n",
    "\n",
    "import numpy as np\n",
    "from scipy.integrate import odeint"
   ]
  },
  {
   "cell_type": "code",
   "execution_count": null,
   "metadata": {},
   "outputs": [],
   "source": [
    "nu = 0.001   # Diffusion constant\n",
    "L  = 20      # Length of domain\n",
    "N  = 1000    # Number of discretization points\n",
    "dx = L/N\n",
    "x  = np.arange(-L/2,L/2,dx) # Define x domain\n",
    "\n",
    "# Define discrete wavenumbers\n",
    "kappa = 2*np.pi*np.fft.fftfreq(N, d=dx)\n",
    "\n",
    "# Initial condition\n",
    "u0 = 1/np.cosh(x)\n",
    "\n",
    "# Simulate PDE in spatial domain\n",
    "dt = 0.025\n",
    "t = np.arange(0,100*dt,dt)\n",
    "\n",
    "def rhsBurgers(u,t,kappa,nu):\n",
    "    uhat    = np.fft.fft(u)\n",
    "    d_uhat  = (1j)*kappa*uhat\n",
    "    dd_uhat = -np.power(kappa,2)*uhat\n",
    "    d_u     = np.fft.ifft(d_uhat)\n",
    "    dd_u    = np.fft.ifft(dd_uhat)\n",
    "    du_dt   = -u * d_u + nu*dd_u\n",
    "    return du_dt.real\n",
    "\n",
    "u = odeint(rhsBurgers,u0,t,args=(kappa,nu))"
   ]
  },
  {
   "cell_type": "code",
   "execution_count": null,
   "metadata": {},
   "outputs": [],
   "source": [
    "u_plot = u[0:-1:10,:]\n",
    "\n",
    "hv.output( backend='plotly', size=200)\n",
    "hv.Overlay([hv.Path3D((x,j*np.ones(u_plot.shape[1]),u_plot[j,:]), kdims=[\"x\", \"Time step\"], vdims=\"Amplitude\") for j in range(u_plot.shape[0])])"
   ]
  },
  {
   "cell_type": "code",
   "execution_count": null,
   "metadata": {},
   "outputs": [],
   "source": [
    "hv.output(size=100)\n",
    "hv.Raster(np.flipud(u))"
   ]
  },
  {
   "cell_type": "code",
   "execution_count": null,
   "metadata": {},
   "outputs": [],
   "source": [
    "hv.output( backend='bokeh', holomap=\"scrubber\")\n",
    "hv.HoloMap({i: hv.Curve((x,u_plot[i,:]), \"x\" \"Amplitude\") for i in range(u_plot.shape[0])}, kdims='i')]"
   ]
  },
  {
   "cell_type": "code",
   "execution_count": null,
   "metadata": {},
   "outputs": [],
   "source": [
    "player = pn.widgets.DiscretePlayer(name='Discrete Player', options=list(range(u_plot.shape[0])),value=0)\n",
    "@pn.depends(player)\n",
    "def show(value):\n",
    "    return hv.Curve((x,u_plot[value,:]), \"x\" \"Amplitude\"),\n",
    "pn.Column( show, player )"
   ]
  }
 ],
 "metadata": {
  "kernelspec": {
   "display_name": "Python 3 (ipykernel)",
   "language": "python",
   "name": "python3"
  },
  "language_info": {
   "codemirror_mode": {
    "name": "ipython",
    "version": 3
   },
   "file_extension": ".py",
   "mimetype": "text/x-python",
   "name": "python",
   "nbconvert_exporter": "python",
   "pygments_lexer": "ipython3",
   "version": "3.9.12"
  }
 },
 "nbformat": 4,
 "nbformat_minor": 4
}

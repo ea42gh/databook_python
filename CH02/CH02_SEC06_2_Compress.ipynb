{
 "cells": [
  {
   "cell_type": "code",
   "execution_count": null,
   "metadata": {},
   "outputs": [],
   "source": [
    "from PIL import Image, ImageOps\n",
    "import numpy as np\n",
    "import os\n",
    "import holoviews as hv; hv.extension('bokeh', logo=False)\n",
    "\n",
    "hv.opts.defaults(hv.opts.Image(cmap=\"gray\",invert_yaxis=True, xaxis=None, yaxis=None, data_aspect=1))"
   ]
  },
  {
   "cell_type": "code",
   "execution_count": null,
   "metadata": {},
   "outputs": [],
   "source": [
    "def image_axes(im):\n",
    "    inch_mm          = 25.4\n",
    "\n",
    "    dpi              = im.info['dpi']\n",
    "    xmax_mm, ymax_mm = im.width/dpi[0]*inch_mm,im.height/dpi[1]*inch_mm\n",
    "    xs               = np.linspace(0,xmax_mm,im.width)\n",
    "    ys               = np.linspace(0,ymax_mm,im.height)\n",
    "    return xs, ys"
   ]
  },
  {
   "cell_type": "code",
   "execution_count": null,
   "metadata": {},
   "outputs": [],
   "source": [
    "img  = Image.open( os.path.join('..','DATA','dog.jpg') )\n",
    "A    = np.array(img)\n",
    "B    = np.array(ImageOps.grayscale(img)) # Convert RGB to grayscale\n",
    "\n",
    "img_x, img_y = image_axes( img )"
   ]
  },
  {
   "cell_type": "code",
   "execution_count": null,
   "metadata": {},
   "outputs": [],
   "source": [
    "Bt = np.fft.fft2(B)\n",
    "Btsort = np.sort(np.abs(Bt.reshape(-1))) # sort by magnitude\n",
    "\n",
    "# Zero out all small coefficients and inverse transform\n",
    "images = []\n",
    "for keep in (0.1, 0.05, 0.01, 0.002):\n",
    "    thresh  = Btsort[int(np.floor((1-keep)*len(Btsort)))]\n",
    "    ind     = np.abs(Bt)>thresh          # Find small indices\n",
    "    Atlow   = Bt * ind                   # Threshold small indices\n",
    "    Alow    = np.fft.ifft2(Atlow).real   # Compressed image\n",
    "    images.append(  hv.Image((img_x,img_y, Alow ), kdims=['x','y'], vdims=\"data\").opts(title=f'keep={keep:.2}') )\n",
    "hv.Layout(images).opts(shared_axes=False, title='Compressed Image')"
   ]
  }
 ],
 "metadata": {
  "kernelspec": {
   "display_name": "Python 3 (ipykernel)",
   "language": "python",
   "name": "python3"
  },
  "language_info": {
   "codemirror_mode": {
    "name": "ipython",
    "version": 3
   },
   "file_extension": ".py",
   "mimetype": "text/x-python",
   "name": "python",
   "nbconvert_exporter": "python",
   "pygments_lexer": "ipython3",
   "version": "3.9.12"
  }
 },
 "nbformat": 4,
 "nbformat_minor": 4
}

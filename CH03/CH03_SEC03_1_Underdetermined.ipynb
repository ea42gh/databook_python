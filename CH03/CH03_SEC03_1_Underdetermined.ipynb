{
 "cells": [
  {
   "cell_type": "code",
   "execution_count": null,
   "metadata": {},
   "outputs": [],
   "source": [
    "import numpy as np\n",
    "import os\n",
    "from scipy.optimize import minimize\n",
    "import holoviews as hv; hv.extension('bokeh', logo=False);"
   ]
  },
  {
   "cell_type": "code",
   "execution_count": null,
   "metadata": {},
   "outputs": [],
   "source": [
    "# Solve y = Theta * s for \"s\"\n",
    "n     = 1000     # dimension of s\n",
    "p     = 200      # number of measurements, dim(y)\n",
    "Theta = np.random.randn(p,n)\n",
    "y     = np.random.randn(p)\n",
    "\n",
    "# L1 Minimum norm solution s_L1\n",
    "def L1_norm(x):\n",
    "    return np.linalg.norm(x,ord=1)\n",
    "\n",
    "constr = ({'type': 'eq', 'fun': lambda x:  Theta @ x - y})\n",
    "x0     = np.linalg.pinv(Theta) @ y # initialize with L2 solution\n",
    "res    = minimize(L1_norm, x0, method='SLSQP',constraints=constr)\n",
    "s_L1   = res.x\n",
    "\n",
    "l1_frequencies, l1_edges = np.histogram(s_L1, 20, density=True)"
   ]
  },
  {
   "cell_type": "code",
   "execution_count": null,
   "metadata": {},
   "outputs": [],
   "source": [
    "# L2 Minimum norm solution s_L2\n",
    "s_L2 = np.linalg.pinv(Theta) @ y \n",
    "\n",
    "l2_frequencies, l2_edges = np.histogram(s_L2, 20, density=True)"
   ]
  },
  {
   "cell_type": "code",
   "execution_count": null,
   "metadata": {},
   "outputs": [],
   "source": [
    "h=\\\n",
    "hv.Curve(s_L1).opts(title=\"L1\").opts( ylim=(-.2,.2))+\\\n",
    "hv.Curve(s_L2).opts(title=\"L2\").opts( ylim=(-.2,.2))+\\\n",
    "hv.Histogram((l1_edges,l1_frequencies)).opts( xlim=(-.2,.2))+\\\n",
    "hv.Histogram((l2_edges,l2_frequencies)).opts( xlim=(-.2,.2))\n",
    "\n",
    "h.opts(shared_axes=False).cols(2)"
   ]
  }
 ],
 "metadata": {
  "kernelspec": {
   "display_name": "Python 3 (ipykernel)",
   "language": "python",
   "name": "python3"
  },
  "language_info": {
   "codemirror_mode": {
    "name": "ipython",
    "version": 3
   },
   "file_extension": ".py",
   "mimetype": "text/x-python",
   "name": "python",
   "nbconvert_exporter": "python",
   "pygments_lexer": "ipython3",
   "version": "3.9.12"
  }
 },
 "nbformat": 4,
 "nbformat_minor": 4
}

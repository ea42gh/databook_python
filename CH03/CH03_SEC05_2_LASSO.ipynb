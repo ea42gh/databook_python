{
 "cells": [
  {
   "cell_type": "code",
   "execution_count": null,
   "metadata": {},
   "outputs": [],
   "source": [
    "import numpy as np\n",
    "import os\n",
    "import scipy.io\n",
    "from sklearn import linear_model\n",
    "from sklearn import model_selection\n",
    "\n",
    "import holoviews as hv;  hv.extension('bokeh', logo=False)"
   ]
  },
  {
   "cell_type": "code",
   "execution_count": null,
   "metadata": {},
   "outputs": [],
   "source": [
    "A   = np.random.randn(100,10)                      # Matrix of possible predictors\n",
    "x   = np.array([0, 0, 1, 0, 0, 0, -1, 0, 0, 0])    # Two nonzero predictors\n",
    "b   = A @ x + 2*np.random.randn(100)\n",
    "\n",
    "xL2 = np.linalg.pinv(A) @ b"
   ]
  },
  {
   "cell_type": "code",
   "execution_count": null,
   "metadata": {},
   "outputs": [],
   "source": [
    "reg    = linear_model.LassoCV(cv=10).fit(A, b)\n",
    "\n",
    "lasso  = linear_model.Lasso(random_state=0, max_iter=10000)\n",
    "alphas = np.logspace(-4, -0.5, 30)\n",
    "\n",
    "tuned_parameters = [{'alpha': alphas}]\n",
    "\n",
    "clf = model_selection.GridSearchCV(lasso, tuned_parameters, cv=10, refit=False)\n",
    "clf.fit(A, b)\n",
    "\n",
    "scores = clf.cv_results_['mean_test_score']\n",
    "scores_std = clf.cv_results_['std_test_score']\n",
    "\n",
    "# plot error lines showing +/- std. errors of the scores\n",
    "std_error = scores_std / np.sqrt(10)"
   ]
  },
  {
   "cell_type": "code",
   "execution_count": null,
   "metadata": {},
   "outputs": [],
   "source": [
    "hv.Spread((alphas, scores,std_error),kdims=[\"alpha\"],vdims=[\"CV score +-std error\", \"+ std error\"]).opts(logx=True, color=\"gray\", alpha=0.1, width=500 )*\\\n",
    "hv.Curve((alphas, scores)).opts(color='red')*\\\n",
    "hv.HLine(np.max(scores)).opts(line_width=1)"
   ]
  },
  {
   "cell_type": "code",
   "execution_count": null,
   "metadata": {},
   "outputs": [],
   "source": [
    "XL1         = linear_model.Lasso(alpha=clf.best_params_['alpha'])\n",
    "XL1.fit(A,b)\n",
    "xL1         = XL1.coef_\n",
    "xL1DeBiased = np.linalg.pinv(A[:,np.abs(xL1)>0]) @ b"
   ]
  }
 ],
 "metadata": {
  "kernelspec": {
   "display_name": "Python 3 (ipykernel)",
   "language": "python",
   "name": "python3"
  },
  "language_info": {
   "codemirror_mode": {
    "name": "ipython",
    "version": 3
   },
   "file_extension": ".py",
   "mimetype": "text/x-python",
   "name": "python",
   "nbconvert_exporter": "python",
   "pygments_lexer": "ipython3",
   "version": "3.9.12"
  }
 },
 "nbformat": 4,
 "nbformat_minor": 4
}

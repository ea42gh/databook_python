{
 "cells": [
  {
   "cell_type": "code",
   "execution_count": null,
   "metadata": {},
   "outputs": [],
   "source": [
    "import numpy as np\n",
    "import os\n",
    "import scipy.io\n",
    "\n",
    "import holoviews as hv; hv.extension('bokeh',logo=False)\n",
    "\n",
    "hv.opts.defaults(hv.opts.Raster(cmap=\"gray\", xaxis=None, yaxis=None, frame_width=200))"
   ]
  },
  {
   "cell_type": "code",
   "execution_count": null,
   "metadata": {},
   "outputs": [],
   "source": [
    "mat    = scipy.io.loadmat(os.path.join('..','DATA','allFaces.mat'))\n",
    "faces  = mat['faces']\n",
    "nfaces = mat['nfaces'].reshape(-1)"
   ]
  },
  {
   "cell_type": "code",
   "execution_count": null,
   "metadata": {},
   "outputs": [],
   "source": [
    "## Function Definitions\n",
    "\n",
    "def shrink(X,tau):\n",
    "    Y = np.abs(X)-tau\n",
    "    return np.sign(X) * np.maximum(Y,np.zeros_like(Y))\n",
    "def SVT(X,tau):\n",
    "    U,S,VT = np.linalg.svd(X,full_matrices=0)\n",
    "    out = U @ np.diag(shrink(S,tau)) @ VT\n",
    "    return out\n",
    "def RPCA(X):\n",
    "    n1,n2 = X.shape\n",
    "    mu = n1*n2/(4*np.sum(np.abs(X.reshape(-1))))\n",
    "    lambd = 1/np.sqrt(np.maximum(n1,n2))\n",
    "    thresh = 10**(-7) * np.linalg.norm(X)\n",
    "    \n",
    "    S = np.zeros_like(X)\n",
    "    Y = np.zeros_like(X)\n",
    "    L = np.zeros_like(X)\n",
    "    count = 0\n",
    "    while (np.linalg.norm(X-L-S) > thresh) and (count < 1000):\n",
    "        L = SVT(X-S+(1/mu)*Y,1/mu)\n",
    "        S = shrink(X-L+(1/mu)*Y,lambd/mu)\n",
    "        Y = Y + mu*(X-L-S)\n",
    "        count += 1\n",
    "    return L,S"
   ]
  },
  {
   "cell_type": "code",
   "execution_count": null,
   "metadata": {},
   "outputs": [],
   "source": [
    "X = faces[:,:nfaces[0]]\n",
    "L,S = RPCA(X)"
   ]
  },
  {
   "cell_type": "code",
   "execution_count": null,
   "metadata": {},
   "outputs": [],
   "source": [
    "imgs = {}\n",
    "for k in  (3,4,14,15,17,18,19,20,21,32,43):\n",
    "    imgs[k] = (hv.Raster(np.reshape(X[:,k-1],(168,192)).T).opts(title='X')+\\\n",
    "               hv.Raster(np.reshape(L[:,k-1],(168,192)).T).opts(title='L')+\\\n",
    "               hv.Raster(np.reshape(S[:,k-1],(168,192)).T).opts(title='S')\n",
    "              ).opts(shared_axes=False)\n",
    "hv.HoloMap(imgs, kdims=\"case\").redim.values( case= imgs.keys() ).opts(framewise=True, axiswise=True ).collate()"
   ]
  }
 ],
 "metadata": {
  "kernelspec": {
   "display_name": "Python 3 (ipykernel)",
   "language": "python",
   "name": "python3"
  },
  "language_info": {
   "codemirror_mode": {
    "name": "ipython",
    "version": 3
   },
   "file_extension": ".py",
   "mimetype": "text/x-python",
   "name": "python",
   "nbconvert_exporter": "python",
   "pygments_lexer": "ipython3",
   "version": "3.9.12"
  }
 },
 "nbformat": 4,
 "nbformat_minor": 4
}

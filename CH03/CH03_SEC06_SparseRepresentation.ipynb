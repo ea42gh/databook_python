{
 "cells": [
  {
   "cell_type": "code",
   "execution_count": null,
   "metadata": {},
   "outputs": [],
   "source": [
    "from PIL import Image, ImageOps\n",
    "import numpy as np\n",
    "\n",
    "import os\n",
    "import scipy.io\n",
    "from sklearn import linear_model\n",
    "from sklearn import model_selection\n",
    "from scipy.optimize import minimize\n",
    "from skimage.transform import resize\n",
    "\n",
    "import holoviews as hv;  hv.extension('bokeh')\n",
    "import panel as pn;      pn.extension()\n",
    "hv.opts.defaults(hv.opts.Raster(cmap=\"gray\", xaxis=None, yaxis=None, data_aspect=1))"
   ]
  },
  {
   "cell_type": "code",
   "execution_count": null,
   "metadata": {},
   "outputs": [],
   "source": [
    "def image_axes(im):\n",
    "    inch_mm          = 25.4\n",
    "\n",
    "    dpi              = im.info['dpi']\n",
    "    xmax_mm, ymax_mm = im.width/dpi[0]*inch_mm,im.height/dpi[1]*inch_mm\n",
    "    xs               = np.linspace(0,xmax_mm,im.width)\n",
    "    ys               = np.linspace(0,ymax_mm,im.height)\n",
    "    return xs, ys\n",
    "\n",
    "mustache = np.array( ImageOps.grayscale( Image.open(os.path.join('..','DATA','mustache.jpg')) ))\n",
    "\n",
    "mustache = (mustache/255).astype(int)\n",
    "mustache = mustache.T\n",
    "hv.Raster(mustache).opts(frame_width=150)"
   ]
  },
  {
   "cell_type": "code",
   "execution_count": null,
   "metadata": {},
   "outputs": [],
   "source": [
    "mat    = scipy.io.loadmat(os.path.join('..','DATA','allFaces.mat'))\n",
    "X      = mat['faces']\n",
    "nfaces = mat['nfaces'].reshape(-1)\n",
    "n      = mat['n']\n",
    "n      = int(n)\n",
    "m      = mat['m']\n",
    "m      = int(m)"
   ]
  },
  {
   "cell_type": "code",
   "execution_count": null,
   "metadata": {},
   "outputs": [],
   "source": [
    "#hv.Image(X)"
   ]
  },
  {
   "cell_type": "code",
   "execution_count": null,
   "metadata": {},
   "outputs": [],
   "source": [
    "##O(&(^T339879087907\n",
    "import numpy as np\n",
    "import matplotlib.pyplot as plt\n",
    "import os\n",
    "import scipy.io\n",
    "from sklearn import linear_model\n",
    "from sklearn import model_selection\n",
    "from scipy.optimize import minimize\n",
    "from skimage.transform import resize\n",
    "from matplotlib.image import imread\n",
    "\n",
    "\n",
    "plt.rcParams['figure.figsize'] = [7, 7]\n",
    "plt.rcParams.update({'font.size': 18})\n",
    "\n",
    "mustache = imread(os.path.join('..','DATA','mustache.jpg'))\n",
    "mustache = np.mean(mustache, -1); # Convert RGB to grayscale\n",
    "mustache = (mustache/255).astype(int)\n",
    "mustache = mustache.T\n",
    "\n",
    "mat = scipy.io.loadmat(os.path.join('..','DATA','allFaces.mat'))\n",
    "X = mat['faces']\n",
    "nfaces = mat['nfaces'].reshape(-1)\n",
    "n = mat['n']\n",
    "n = int(n)\n",
    "m = mat['m']\n",
    "m = int(m)"
   ]
  },
  {
   "cell_type": "code",
   "execution_count": null,
   "metadata": {},
   "outputs": [],
   "source": [
    "## Build Training and Test sets\n",
    "nTrain  = 30\n",
    "nTest   = 20\n",
    "nPeople = 20\n",
    "Train   = np.zeros((X.shape[0],nTrain*nPeople))\n",
    "Test    = np.zeros((X.shape[0],nTest*nPeople))\n",
    "\n",
    "for k in range(nPeople):\n",
    "    baseind = 0\n",
    "    if k > 0:\n",
    "        baseind = np.sum(nfaces[:k])\n",
    "    inds = range(baseind,baseind+nfaces[k])\n",
    "    Train[:,k*nTrain:(k+1)*nTrain] = X[:,inds[:nTrain]]\n",
    "    Test [:,k*nTest: (k+1)*nTest ] = X[:,inds[nTrain:(nTrain+nTest)]]"
   ]
  },
  {
   "cell_type": "code",
   "execution_count": null,
   "metadata": {},
   "outputs": [],
   "source": [
    "## Downsample Training Images (Build Theta)\n",
    "M = Train.shape[1]\n",
    "\n",
    "Theta = np.zeros((120,M))\n",
    "for k in range(M):\n",
    "    temp       = np.reshape(np.copy(Train[:,k]),(m,n))\n",
    "    tempSmall  = resize(temp, (10, 12), anti_aliasing=True)\n",
    "    Theta[:,k] = np.reshape(tempSmall,120)"
   ]
  },
  {
   "cell_type": "code",
   "execution_count": null,
   "metadata": {},
   "outputs": [],
   "source": [
    "## Renormalize Columns of Theta\n",
    "normTheta = np.zeros(M)\n",
    "for k in range(M):\n",
    "    normTheta[k] = np.linalg.norm(Theta[:,k])\n",
    "    Theta[:,k]   = Theta[:,k]/normTheta[k]"
   ]
  },
  {
   "cell_type": "code",
   "execution_count": null,
   "metadata": {},
   "outputs": [],
   "source": [
    "## Occlude Test Image (Test[:,125] = test image 6, person 7)\n",
    "x1          = np.copy(Test[:,125]) # Clean image\n",
    "x2          = np.copy(Test[:,125]) * mustache.reshape(n*m)\n",
    "randvec     = np.random.permutation(n*m)\n",
    "first30     = randvec[:int(np.floor(0.3*len(randvec)))]\n",
    "vals30      = (255*np.random.rand(*first30.shape)).astype(int)\n",
    "x3          = np.copy(x1)\n",
    "x3[first30] = vals30 # 30% occluded\n",
    "x4 = np.copy(x1) + 50*np.random.randn(*x1.shape) # Random noise"
   ]
  },
  {
   "cell_type": "code",
   "execution_count": null,
   "metadata": {},
   "outputs": [],
   "source": [
    "## Downsample Test Images\n",
    "X = np.zeros((x1.shape[0],4))\n",
    "X[:,0] = x1\n",
    "X[:,1] = x2\n",
    "X[:,2] = x3\n",
    "X[:,3] = x4\n",
    "\n",
    "Y = np.zeros((120,4))\n",
    "for k in range(4):\n",
    "    temp      = np.reshape(np.copy(X[:,k]),(m,n))\n",
    "    tempSmall = resize(temp, (10, 12), anti_aliasing=True)\n",
    "    Y[:,k]    = np.reshape(tempSmall,120)"
   ]
  },
  {
   "cell_type": "code",
   "execution_count": null,
   "metadata": {},
   "outputs": [],
   "source": [
    "## L1 Search, Testclean\n",
    "y1  = np.copy(Y[:,0])\n",
    "eps = 0.01\n",
    "\n",
    "# L1 Minimum norm solution s_L1\n",
    "def L1_norm(x):\n",
    "    return np.linalg.norm(x,ord=1)\n",
    "\n",
    "constr = ({'type': 'ineq', 'fun': lambda x:  eps - np.linalg.norm(Theta @ x - y1,2)})\n",
    "x0     = np.linalg.pinv(Theta) @ y1 # initialize with L2 solution\n",
    "res    = minimize(L1_norm, x0, method='SLSQP',constraints=constr)\n",
    "s1     = res.x\n",
    "\n",
    "binErr = np.zeros(nPeople)\n",
    "for k in range(nPeople):\n",
    "    L         = range(k*nTrain,(k+1)*nTrain)\n",
    "    binErr[k] = np.linalg.norm(x1-Train[:,L] @ (s1[L]/normTheta[L]))/np.linalg.norm(x1)\n",
    "    "
   ]
  },
  {
   "cell_type": "code",
   "execution_count": null,
   "metadata": {},
   "outputs": [],
   "source": [
    "pn.Column( pn.Row(hv.Curve(s1).opts(width=500),\n",
    "                  hv.Raster( np.reshape(Train @ (s1/normTheta),(m,n)).T, kdims=[\"s1x\", \"s1y\"]).opts(frame_height=250)\n",
    "                 ),\n",
    "           pn.Row(hv.Bars(binErr, \"index\", \"Error\").opts(width=500),\n",
    "                  hv.Raster( np.reshape(x1 - Train @ (s1/normTheta),(m,n)).T, kdims=[\"s2x\", \"s2y\"]).opts(frame_height=250)\n",
    "                 )\n",
    ")"
   ]
  },
  {
   "cell_type": "code",
   "execution_count": null,
   "metadata": {},
   "outputs": [],
   "source": [
    "## L1 Search, Mustache\n",
    "y2  = np.copy(Y[:,1])\n",
    "eps = 500\n",
    "\n",
    "# L1 Minimum norm solution s_L1\n",
    "def L1_norm(x):\n",
    "    return np.linalg.norm(x,ord=1)\n",
    "\n",
    "constr = ({'type': 'ineq', 'fun': lambda x:  eps - np.linalg.norm(Theta @ x - y2,2)})\n",
    "x0     = np.linalg.pinv(Theta) @ y2 # initialize with L2 solution\n",
    "res    = minimize(L1_norm, x0, method='SLSQP',constraints=constr)\n",
    "s2     = res.x\n",
    "\n",
    "binErr = np.zeros(nPeople)\n",
    "for k in range(nPeople):\n",
    "    L         = range(k*nTrain,(k+1)*nTrain)\n",
    "    binErr[k] = np.linalg.norm(x2-Train[:,L] @ (s2[L]/normTheta[L]))/np.linalg.norm(x2)"
   ]
  },
  {
   "cell_type": "code",
   "execution_count": null,
   "metadata": {},
   "outputs": [],
   "source": [
    "pn.Column( pn.Row(hv.Curve(s2).opts(width=500),\n",
    "                  hv.Raster( np.reshape(Train @ (s2/normTheta),(m,n)).T, kdims=[\"s1x\", \"s1y\"]).opts(frame_height=250)\n",
    "                 ),\n",
    "           pn.Row(hv.Bars(binErr, \"index\", \"Error\").opts(width=500),\n",
    "                  hv.Raster( np.reshape(x2 - Train @ (s2/normTheta),(m,n)).T, kdims=[\"s2x\", \"s2y\"]).opts(frame_height=250)\n",
    "                 )\n",
    ")"
   ]
  },
  {
   "cell_type": "code",
   "execution_count": null,
   "metadata": {},
   "outputs": [],
   "source": [
    "## L1 Search, Occlusion\n",
    "y3  = np.copy(Y[:,2])\n",
    "eps = 1000\n",
    "\n",
    "# L1 Minimum norm solution s_L1\n",
    "def L1_norm(x):\n",
    "    return np.linalg.norm(x,ord=1)\n",
    "\n",
    "constr = ({'type': 'ineq', 'fun': lambda x:  eps - np.linalg.norm(Theta @ x - y3,2)})\n",
    "x0  = np.linalg.pinv(Theta) @ y3 # initialize with L2 solution\n",
    "res = minimize(L1_norm, x0, method='SLSQP',constraints=constr)\n",
    "s3  = res.x\n",
    "\n",
    "binErr = np.zeros(nPeople)\n",
    "for k in range(nPeople):\n",
    "    L         = range(k*nTrain,(k+1)*nTrain)\n",
    "    binErr[k] = np.linalg.norm(x3-Train[:,L] @ (s3[L]/normTheta[L]))/np.linalg.norm(x3)"
   ]
  },
  {
   "cell_type": "code",
   "execution_count": null,
   "metadata": {},
   "outputs": [],
   "source": [
    "pn.Column( pn.Row(hv.Curve(s3).opts(width=500),\n",
    "                  hv.Raster( np.reshape(Train @ (s3/normTheta),(m,n)).T, kdims=[\"s1x\", \"s1y\"]).opts(frame_height=250)\n",
    "                 ),\n",
    "           pn.Row(hv.Bars(binErr, \"index\", \"Error\").opts(width=500),\n",
    "                  hv.Raster( np.reshape(x3 - Train @ (s3/normTheta),(m,n)).T, kdims=[\"s2x\", \"s2y\"]).opts(frame_height=250)\n",
    "                 )\n",
    ")"
   ]
  },
  {
   "cell_type": "code",
   "execution_count": null,
   "metadata": {},
   "outputs": [],
   "source": [
    "## L1 Search, Noise\n",
    "y4 = np.copy(Y[:,3])\n",
    "eps = 10\n",
    "\n",
    "# L1 Minimum norm solution s_L1\n",
    "def L1_norm(x):\n",
    "    return np.linalg.norm(x,ord=1)\n",
    "\n",
    "constr = ({'type': 'ineq', 'fun': lambda x:  eps - np.linalg.norm(Theta @ x - y4,2)})\n",
    "x0 = np.linalg.pinv(Theta) @ y4 # initialize with L2 solution\n",
    "res = minimize(L1_norm, x0, method='SLSQP',constraints=constr)\n",
    "s4 = res.x\n",
    "\n",
    "binErr = np.zeros(nPeople)\n",
    "for k in range(nPeople):\n",
    "    L = range(k*nTrain,(k+1)*nTrain)\n",
    "    binErr[k] = np.linalg.norm(x4-Train[:,L] @ (s4[L]/normTheta[L]))/np.linalg.norm(x4)"
   ]
  },
  {
   "cell_type": "code",
   "execution_count": null,
   "metadata": {},
   "outputs": [],
   "source": [
    "pn.Column( pn.Row(hv.Curve(s4).opts(width=500),\n",
    "                  hv.Raster( np.reshape(Train @ (s4/normTheta),(m,n)).T, kdims=[\"s1x\", \"s1y\"]).opts(frame_height=250)\n",
    "                 ),\n",
    "           pn.Row(hv.Bars(binErr, \"index\", \"Error\").opts(width=500),\n",
    "                  hv.Raster( np.reshape(x3 - Train @ (s4/normTheta),(m,n)).T, kdims=[\"s2x\", \"s2y\"]).opts(frame_height=250)\n",
    "                 )\n",
    ")"
   ]
  },
  {
   "cell_type": "code",
   "execution_count": null,
   "metadata": {},
   "outputs": [],
   "source": [
    "## Least Squares Is No Good\n",
    "s4L2 = np.linalg.pinv(Train) @ x4\n",
    "\n",
    "binErr = np.zeros(nPeople)\n",
    "for k in range(nPeople):\n",
    "    L = range(k*nTrain,(k+1)*nTrain)\n",
    "    binErr[k] = np.linalg.norm(x4-Train[:,L] @ (s4L2[L]/normTheta[L]))/np.linalg.norm(x4)"
   ]
  },
  {
   "cell_type": "code",
   "execution_count": null,
   "metadata": {},
   "outputs": [],
   "source": [
    "pn.Column( pn.Row(hv.Curve(s4L2).opts(width=500),\n",
    "                  hv.Raster( np.reshape(Train @ (s4L2/normTheta),(m,n)).T, kdims=[\"s1x\", \"s1y\"]).opts(frame_height=250)\n",
    "                 ),\n",
    "           pn.Row(hv.Bars(binErr, \"index\", \"Error\").opts(width=500),\n",
    "                  hv.Raster( np.reshape(x3 - Train @ (s4L2/normTheta),(m,n)).T, kdims=[\"s2x\", \"s2y\"]).opts(frame_height=250)\n",
    "                 )\n",
    ")"
   ]
  }
 ],
 "metadata": {
  "kernelspec": {
   "display_name": "Python 3 (ipykernel)",
   "language": "python",
   "name": "python3"
  },
  "language_info": {
   "codemirror_mode": {
    "name": "ipython",
    "version": 3
   },
   "file_extension": ".py",
   "mimetype": "text/x-python",
   "name": "python",
   "nbconvert_exporter": "python",
   "pygments_lexer": "ipython3",
   "version": "3.9.12"
  }
 },
 "nbformat": 4,
 "nbformat_minor": 4
}

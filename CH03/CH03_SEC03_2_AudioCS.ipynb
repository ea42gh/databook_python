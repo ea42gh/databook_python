{
 "cells": [
  {
   "cell_type": "code",
   "execution_count": null,
   "metadata": {},
   "outputs": [],
   "source": [
    "import numpy as np\n",
    "import os\n",
    "import sys\n",
    "from scipy.fftpack import dct, idct\n",
    "from scipy.optimize import minimize\n",
    "sys.path.append(os.path.join('..','UTILS'))\n",
    "\n",
    "# cosamp function is available at https://github.com/avirmaux/CoSaMP :\n",
    "#    ITERATIVE SIGNAL RECOVERY FROM INCOMPLETE AND INACCURATE SAMPLES\n",
    "# copy function from ipynb into cosamp_fn.py and place in UTILS folder\n",
    "from cosamp_fn import cosamp\n",
    "\n",
    "import holoviews as hv; hv.extension('bokeh')"
   ]
  },
  {
   "cell_type": "code",
   "execution_count": null,
   "metadata": {},
   "outputs": [],
   "source": [
    "## Generate signal, DCT of signal\n",
    "\n",
    "n   = 4096                       # points in high resolution signal\n",
    "t   = np.linspace(0,1,n)\n",
    "x   = np.cos(2 * 97 * np.pi * t) + np.cos(2 * 777 * np.pi * t)\n",
    "xt  = np.fft.fft(x)              # Fourier transformed signal\n",
    "PSD = xt * np.conj(xt) / n       # Power spectral density"
   ]
  },
  {
   "cell_type": "code",
   "execution_count": null,
   "metadata": {},
   "outputs": [],
   "source": [
    "## Randomly sample signal\n",
    "p    = 128 # num. random samples, p = n/32\n",
    "perm = np.floor(np.random.rand(p) * n).astype(int)\n",
    "y    = x[perm]"
   ]
  },
  {
   "cell_type": "code",
   "execution_count": null,
   "metadata": {},
   "outputs": [],
   "source": [
    "## Solve compressed sensing problem\n",
    "Psi   = dct(np.identity(n))                            # Build Psi\n",
    "Theta = Psi[perm,:]                                    # Measure rows of Psi\n",
    "\n",
    "s      = cosamp(Theta,y,10,epsilon=1.e-10,max_iter=10) # CS via matching pursuit\n",
    "xrecon = idct(s)                                       # reconstruct full signal\n",
    "\n",
    "xtrecon = np.fft.fft(xrecon,n)                         # computes the (fast) discrete fourier transform\n",
    "PSDrecon = xtrecon * np.conj(xtrecon)/n                # Power spectrum (how much power in each freq)"
   ]
  },
  {
   "cell_type": "code",
   "execution_count": null,
   "metadata": {},
   "outputs": [],
   "source": [
    "## Plot\n",
    "time_window = np.array([1024,1280])/4096\n",
    "freq        = np.arange(n)\n",
    "L           = int(np.floor(n/2))\n",
    "\n",
    "h=\\\n",
    "hv.Curve((t,        x),                         \"t\",         \"amplitude\").opts(xlim=(time_window[0],time_window[1]), padding=0.05)*\\\n",
    "hv.Scatter((perm/n, y)                                                  ).opts(color='red', size=5)+\\\n",
    "hv.Curve((freq[0:L],PSD.real[0:L]),     \"Frequency\", \"Magnitude\") +\\\n",
    "hv.Curve((t,        xrecon),                    \"t\",         \"amplitude\").opts(xlim=(time_window[0],time_window[1]), padding=0.05)+\\\n",
    "hv.Curve((freq[0:L],PSDrecon.real[:L]), \"Frequency\", \"Magnitude\")\n",
    "h.cols(2)"
   ]
  },
  {
   "cell_type": "code",
   "execution_count": null,
   "metadata": {},
   "outputs": [],
   "source": [
    "## L1-Minimization using SciPy\n",
    "def L1_norm(x):\n",
    "    return np.linalg.norm(x,ord=1)\n",
    "\n",
    "constr = ({'type': 'eq', 'fun': lambda x:  Theta @ x - y})\n",
    "x0     = np.linalg.pinv(Theta) @ y \n",
    "res    = minimize(L1_norm, x0, method='SLSQP',constraints=constr)\n",
    "s      = res.x"
   ]
  }
 ],
 "metadata": {
  "kernelspec": {
   "display_name": "Python 3 (ipykernel)",
   "language": "python",
   "name": "python3"
  },
  "language_info": {
   "codemirror_mode": {
    "name": "ipython",
    "version": 3
   },
   "file_extension": ".py",
   "mimetype": "text/x-python",
   "name": "python",
   "nbconvert_exporter": "python",
   "pygments_lexer": "ipython3",
   "version": "3.9.12"
  }
 },
 "nbformat": 4,
 "nbformat_minor": 4
}

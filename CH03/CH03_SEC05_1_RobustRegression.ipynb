{
 "cells": [
  {
   "cell_type": "code",
   "execution_count": null,
   "metadata": {},
   "outputs": [],
   "source": [
    "import numpy as np\n",
    "import os\n",
    "from scipy.optimize import minimize\n",
    "\n",
    "import holoviews as hv; hv.extension('bokeh', logo=False)"
   ]
  },
  {
   "cell_type": "code",
   "execution_count": null,
   "metadata": {},
   "outputs": [],
   "source": [
    "x        = np.sort(4*(np.random.rand(25,1)-0.5),axis=0) # Random data from [-2,2]\n",
    "b        = 0.9*x + 0.1*np.random.randn(len(x),1)  # Line y = 0.9x with noise\n",
    "atrue    = np.linalg.lstsq(x,b,rcond=None)[0] # Least-squares slope (no outliers)\n",
    "atrue    = atrue.item(0)\n",
    "\n",
    "b[-1]    = -5.5  # Introduce outlier\n",
    "acorrupt = np.linalg.lstsq(x,b,rcond=None)[0] # New slope\n",
    "acorrupt = acorrupt.item(0)"
   ]
  },
  {
   "cell_type": "code",
   "execution_count": null,
   "metadata": {},
   "outputs": [],
   "source": [
    "## L1 optimization to reject outlier\n",
    "def L1_norm(a):\n",
    "    return np.linalg.norm(a*x-b,ord=1)\n",
    "\n",
    "a0  = acorrupt                 # initialize to L2 solution\n",
    "res = minimize(L1_norm, a0)\n",
    "aL1 = res.x[0]                 # aL1 is robust"
   ]
  },
  {
   "cell_type": "code",
   "execution_count": null,
   "metadata": {},
   "outputs": [],
   "source": [
    "xgrid = np.arange(-2,2,0.01)\n",
    "h=\\\n",
    "hv.Scatter((x[:-1],b[:-1]),      label='data'   ).opts(width=700, size=6, color='black', show_grid=True)*\\\n",
    "hv.Scatter((x[-1], b[-1] ),      label='Outlier').opts(size=6)*\\\n",
    "hv.Curve((xgrid,atrue*xgrid),    label=\"L2 fit (without outlier)\")*\\\n",
    "hv.Curve((xgrid,acorrupt*xgrid), label=\"L2 fit (with outlier)\")*\\\n",
    "hv.Curve((xgrid,aL1*xgrid),      label=\"L1 fit\")\n",
    "\n",
    "h.opts(legend_position=\"right\")"
   ]
  }
 ],
 "metadata": {
  "kernelspec": {
   "display_name": "Python 3 (ipykernel)",
   "language": "python",
   "name": "python3"
  },
  "language_info": {
   "codemirror_mode": {
    "name": "ipython",
    "version": 3
   },
   "file_extension": ".py",
   "mimetype": "text/x-python",
   "name": "python",
   "nbconvert_exporter": "python",
   "pygments_lexer": "ipython3",
   "version": "3.9.12"
  }
 },
 "nbformat": 4,
 "nbformat_minor": 4
}

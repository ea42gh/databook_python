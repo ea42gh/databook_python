{
 "cells": [
  {
   "cell_type": "code",
   "execution_count": null,
   "metadata": {},
   "outputs": [],
   "source": [
    "import numpy as np\n",
    "import os\n",
    "import scipy.io\n",
    "from scipy.fftpack import dct, idct\n",
    "from scipy.optimize import minimize\n",
    "import holoviews as hv; hv.extension(\"bokeh\", logo=False)\n",
    "\n",
    "hv.opts.defaults(hv.opts.Image( xaxis=None, yaxis=None,invert_yaxis=True),\n",
    "                 hv.opts.Raster( xaxis=None, yaxis=None,invert_yaxis=True)) #cmap=\"gray\", data_aspect=1"
   ]
  },
  {
   "cell_type": "code",
   "execution_count": null,
   "metadata": {},
   "outputs": [],
   "source": [
    "mat = scipy.io.loadmat(os.path.join('..','DATA','CC2.mat'))\n",
    "CC  = mat['CC']\n",
    "#CC_map = ListedColormap(CC)\n",
    "\n",
    "p = 14\n",
    "n = 32"
   ]
  },
  {
   "cell_type": "code",
   "execution_count": null,
   "metadata": {},
   "outputs": [],
   "source": [
    "Psi = dct(np.identity(n))\n",
    "hv.Image(np.flipud(Psi))"
   ]
  },
  {
   "cell_type": "code",
   "execution_count": null,
   "metadata": {},
   "outputs": [],
   "source": [
    "C    = np.identity(n)\n",
    "perm = np.random.permutation(n)[:p]\n",
    "C    = C[perm,:] # compressed measurement\n",
    "\n",
    "Theta = C @ Psi\n",
    "\n",
    "(hv.Image(1-np.flipud(C)).opts(cmap=\"gray\")+hv.Image( np.flipud(Theta))).opts(shared_axes=False)"
   ]
  },
  {
   "cell_type": "code",
   "execution_count": null,
   "metadata": {},
   "outputs": [],
   "source": [
    "## Plot s, y\n",
    "s     = np.zeros((n,1))\n",
    "s[2]  = 1.4\n",
    "s[13] = 0.7\n",
    "s[27] = 2.2\n",
    "y     = C @ Psi @ s\n",
    "\n",
    "sL2        = np.linalg.pinv(Theta) @ y\n",
    "sbackslash = np.linalg.lstsq(Theta,y,rcond=None)[0]\n",
    "\n",
    "h = \\\n",
    "hv.Raster(np.flipud( s         )).opts(title='s')+\\\n",
    "hv.Raster(np.flipud( sL2       )).opts(title='sL2')+\\\n",
    "hv.Raster(np.flipud( sbackslash)).opts(title='sbackslash')+\\\n",
    "hv.Raster(np.flipud( y         )).opts(title='y')\n",
    "\n",
    "h.opts(shared_axes=False).opts(hv.opts.Raster(width=100))"
   ]
  },
  {
   "cell_type": "code",
   "execution_count": null,
   "metadata": {},
   "outputs": [],
   "source": [
    "## L1-Minimization using SciPy\n",
    "def L1_norm(x):\n",
    "    return np.linalg.norm(x,ord=1)\n",
    "\n",
    "y      = y.reshape(-1)\n",
    "constr = ({'type': 'eq', 'fun': lambda x:  Theta @ x - y})\n",
    "x0     = np.linalg.pinv(Theta) @ y\n",
    "res    = minimize(L1_norm, x0, method='SLSQP',constraints=constr)\n",
    "s2     = res.x"
   ]
  },
  {
   "cell_type": "code",
   "execution_count": null,
   "metadata": {},
   "outputs": [],
   "source": [
    "C     = np.random.randn(p,n)\n",
    "Theta = C @ Psi\n",
    "\n",
    "(hv.Image(np.flipud(C))+hv.Image(np.flipud(Theta))).opts(shared_axes=False)"
   ]
  },
  {
   "cell_type": "code",
   "execution_count": null,
   "metadata": {
    "scrolled": true
   },
   "outputs": [],
   "source": [
    "# Plot C and Theta (3) - Bernoulli Random\n",
    "C = np.random.randn(p,n)\n",
    "C = C > 0\n",
    "\n",
    "Theta = C @ Psi\n",
    "\n",
    "(hv.Image(np.flipud(C))+hv.Image(np.flipud(Theta))).opts(shared_axes=False)"
   ]
  },
  {
   "cell_type": "code",
   "execution_count": null,
   "metadata": {},
   "outputs": [],
   "source": [
    "# Plot C and Theta (4) - Sparse Bernoulli\n",
    "C = np.random.randn(p,n)\n",
    "C = C > 1\n",
    "Theta = C @ Psi\n",
    "\n",
    "(hv.Image(np.flipud(C))+hv.Image(np.flipud(Theta))).opts(shared_axes=False)"
   ]
  },
  {
   "cell_type": "code",
   "execution_count": null,
   "metadata": {},
   "outputs": [],
   "source": [
    "# Bad C and Theta (5) - DCT Meas\n",
    "C = idct(np.identity(n))\n",
    "perm = np.arange(n-p,n)\n",
    "C = C[perm,:] # compressed measurement\n",
    "\n",
    "Theta = C @ Psi\n",
    "\n",
    "y = Theta @ s\n",
    "\n",
    "(hv.Image(np.flipud(C))+hv.Image(np.flipud(Theta))+hv.Raster(np.flipud(y))).opts(shared_axes=False)"
   ]
  }
 ],
 "metadata": {
  "kernelspec": {
   "display_name": "Python 3 (ipykernel)",
   "language": "python",
   "name": "python3"
  },
  "language_info": {
   "codemirror_mode": {
    "name": "ipython",
    "version": 3
   },
   "file_extension": ".py",
   "mimetype": "text/x-python",
   "name": "python",
   "nbconvert_exporter": "python",
   "pygments_lexer": "ipython3",
   "version": "3.9.12"
  }
 },
 "nbformat": 4,
 "nbformat_minor": 4
}

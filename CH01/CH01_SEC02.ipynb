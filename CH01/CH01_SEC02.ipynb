{
 "cells": [
  {
   "cell_type": "code",
   "execution_count": null,
   "metadata": {},
   "outputs": [],
   "source": [
    "import holoviews as hv; hv.extension(\"bokeh\", logo=False)\n",
    "import panel as pn; pn.extension()\n",
    "import networkx as nx\n",
    "\n",
    "hv.opts.defaults(hv.opts.Image(cmap='gray', xaxis=None, yaxis=None, width=250,height=300))\n",
    "\n",
    "import numpy as np\n",
    "import os\n",
    "from matplotlib.image import imread"
   ]
  },
  {
   "cell_type": "code",
   "execution_count": null,
   "metadata": {},
   "outputs": [],
   "source": [
    "class PointLabeler:\n",
    "    def __init__(self):\n",
    "        self.reset()\n",
    "\n",
    "    def reset(self):\n",
    "        self.G      = nx.Graph()\n",
    "        self.E      = {}\n",
    "        self.pos    = {}\n",
    "        self.text   = {}\n",
    "        self.color  = {}\n",
    "\n",
    "    def _add( self, point_id, point_pos, lbl_id, lbl_pos, text, at_start=False, color='black' ):\n",
    "        self.E[(point_id,lbl_id)]     = text\n",
    "        self.color[(point_id,lbl_id)] = color\n",
    "        self.pos[point_id]            = np.array(point_pos)\n",
    "        self.pos[lbl_id]              = np.array(lbl_pos)\n",
    "        self.text[point_id if at_start else lbl_id] = {\"text\" : text, \"color\": color}\n",
    "\n",
    "    def _add_lbl( self, lbl_id, point_id, delta, text, color=\"black\" ):\n",
    "        #print( f\"adding {delta} for {lbl_id} to current {point_id} at {self.pos[point_id]}\")\n",
    "        self.G.add_node(lbl_id)\n",
    "        self.pos[lbl_id]  = self.pos[point_id] + delta\n",
    "        self.text[lbl_id] = {\"text\" : text, \"color\": color}\n",
    "\n",
    "    def add( self, point_pos, lbl_pos, text, at_start=False, offset=None, color='black'):\n",
    "        cur = len( self.pos )+1\n",
    "        if offset is None:\n",
    "            self._add( cur, point_pos, cur+1, lbl_pos, text, at_start, color )\n",
    "        else:\n",
    "            self._add( cur, point_pos, cur+1, lbl_pos, \"\", at_start, color )\n",
    "            diff     = self.pos[cur+1] - self.pos[cur]\n",
    "            diff_pos = offset * diff / np.linalg.norm( diff)\n",
    "            if at_start:\n",
    "                self._add_lbl( cur+2, cur, -diff_pos, text, color)\n",
    "            else:\n",
    "                self._add_lbl( cur+2, cur+1, diff_pos, text, color)\n",
    "                \n",
    "    def graph(self):\n",
    "        _ = [self.text.__setitem__(k,{\"text\": \"\", \"color\": \"black\"}) for k in self.pos.keys() if self.text.get(k,None) is None]\n",
    "\n",
    "        #self.G.add_edges_from(self.E.keys())\n",
    "        for e in self.E.keys():\n",
    "            self.G.add_edge( *e, color=self.color[e])\n",
    "        nx.set_node_attributes( self.G, self.text )\n",
    "        graph  = hv.Graph.from_networkx(self.G, self.pos)\\\n",
    "                   .opts( directed=True, node_alpha=0, arrowhead_length=0.5, edge_color=\"color\")\n",
    "        lbls   = hv.Labels( graph.nodes, ['x', 'y'], [\"text\",\"color\"]).opts(text_color='color')\n",
    "        return graph,lbls\n",
    "\n",
    "    def show(self):\n",
    "        graph,lbls = self.graph()\n",
    "        return graph*lbls\n",
    "\n",
    "    def _dbg(self):\n",
    "        print(\"Pos\")\n",
    "        for i in self.pos.keys():\n",
    "            print( f\".  {i, self.pos[i]}\")\n",
    "        print(\"Edge\")\n",
    "        for i in self.E.keys():\n",
    "            print( f\".  {i, self.E[i]}\")\n",
    "        print(\"Text\")\n",
    "        for i in self.text.keys():\n",
    "            print( f\".  {i, self.text[i]}\")"
   ]
  },
  {
   "cell_type": "code",
   "execution_count": null,
   "metadata": {},
   "outputs": [],
   "source": [
    "A = imread(os.path.join('..','DATA','dog.jpg'))\n",
    "X = np.mean(A, -1); # Convert RGB to grayscale\n",
    "hv.Image(X)"
   ]
  },
  {
   "cell_type": "code",
   "execution_count": null,
   "metadata": {},
   "outputs": [],
   "source": [
    "U, S, VT = np.linalg.svd(X,full_matrices=False)\n",
    "S = np.diag(S)\n",
    "approx = [4,19,99]\n",
    "h = []\n",
    "j = 0\n",
    "for r in approx:\n",
    "    # Construct approximate image\n",
    "    Xapprox = U[:,:r] @ S[0:r,:r] @ VT[:r,:]\n",
    "    h.append( hv.Image(Xapprox).opts(title=f\"r = {r+1}\"))\n",
    "pn.Row( *h )"
   ]
  },
  {
   "cell_type": "code",
   "execution_count": null,
   "metadata": {},
   "outputs": [],
   "source": [
    "cs = np.cumsum(np.diag(S))/np.sum(np.diag(S))\n",
    "\n",
    "sc_pl = PointLabeler()\n",
    "for k in approx:\n",
    "    sc_pl.add( (400,cs[k]), (k,cs[k]), f\"r = {k+1}\", offset=25,  at_start=True, color='red')\n",
    "\n",
    "\n",
    "pn.Column(\n",
    "    pn.pane.Markdown(\"# Singular Values, Red Markers show the Approximations Used\"),\n",
    "    pn.Row(\n",
    "        hv.Curve( np.diag(S)).opts(logy=True, width=400, title=\"Singular Values\")*\\\n",
    "        hv.Scatter((approx, [S[k,k] for k in approx])).opts(color=\"red\",size=4),\n",
    "        hv.Curve( cs ).opts(width = 400, title=\"Singular Values: Cumulative Sum (Scaled)\")*\\\n",
    "        hv.Scatter((approx, [cs[k] for k in approx])).opts(color=\"red\",size=4)*\\\n",
    "        sc_pl.show().opts(hv.opts.Labels(text_align=\"left\"),\n",
    "                          hv.opts.Graph(arrowhead_length=0.0001)\n",
    "                         )\n",
    "    )\n",
    ")"
   ]
  },
  {
   "cell_type": "markdown",
   "metadata": {},
   "source": [
    "**Dominant Correlations** of $X = U_r \\Sigma_r V^t_r$\n",
    "* $X^t X = V_r \\Sigma_r^2 V^t_r$\n",
    "* $X X^t = U_r \\Sigma_r^2 U^t_r$"
   ]
  },
  {
   "cell_type": "code",
   "execution_count": null,
   "metadata": {},
   "outputs": [],
   "source": [
    "pn.Row( hv.Image( X @ X.T).opts(title='Col Correlations: X X.T'),\n",
    "        hv.Image( X      ).opts(title='Image X'),\n",
    "        hv.Image( X.T @ X).opts(title='Row Correlations: X.T X') )"
   ]
  }
 ],
 "metadata": {
  "kernelspec": {
   "display_name": "Python 3 (ipykernel)",
   "language": "python",
   "name": "python3"
  },
  "language_info": {
   "codemirror_mode": {
    "name": "ipython",
    "version": 3
   },
   "file_extension": ".py",
   "mimetype": "text/x-python",
   "name": "python",
   "nbconvert_exporter": "python",
   "pygments_lexer": "ipython3",
   "version": "3.9.12"
  }
 },
 "nbformat": 4,
 "nbformat_minor": 4
}

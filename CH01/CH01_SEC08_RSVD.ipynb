{
 "cells": [
  {
   "cell_type": "code",
   "execution_count": null,
   "metadata": {},
   "outputs": [],
   "source": [
    "import holoviews as hv; hv.extension('bokeh', logo=None)\n",
    "import panel as pn;     pn.extension()\n",
    "hv.opts.defaults(hv.opts.Raster(cmap='gray', xaxis=None, yaxis=None, frame_width=200, aspect='equal'))\n",
    "\n",
    "import numpy as np\n",
    "import os"
   ]
  },
  {
   "cell_type": "code",
   "execution_count": null,
   "metadata": {},
   "outputs": [],
   "source": [
    "# Define randomized SVD function\n",
    "def rSVD(X,r,q,p):\n",
    "    # Step 1: Sample column space of X with P matrix\n",
    "    ny = X.shape[1]\n",
    "    P = np.random.randn(ny,r+p)\n",
    "    Z = X @ P\n",
    "    for k in range(q):\n",
    "        Z = X @ (X.T @ Z)\n",
    "\n",
    "    Q, R = np.linalg.qr(Z, mode='reduced')\n",
    "\n",
    "    # Step 2: Compute SVD on projected Y = Q.T @ X\n",
    "    Y = Q.T @ X\n",
    "    UY, S, VT = np.linalg.svd(Y, full_matrices=0)\n",
    "    U = Q @ UY\n",
    "\n",
    "    return U, S, VT"
   ]
  },
  {
   "cell_type": "code",
   "execution_count": null,
   "metadata": {},
   "outputs": [],
   "source": [
    "from PIL import Image, ImageOps\n",
    "A = np.array(Image.open( os.path.join('..','DATA','jupiter.jpg') ))\n",
    "\n",
    "X = np.mean(A,axis=2) # Convert RGB -> grayscale\n",
    "\n",
    "U, S, VT = np.linalg.svd(X,full_matrices=0) # Deterministic SVD\n",
    "\n",
    "r = 400 # Target rank\n",
    "q = 1   # Power iterations\n",
    "p = 5   # Oversampling parameter\n",
    "\n",
    "rU, rS, rVT = rSVD(X,r,q,p)"
   ]
  },
  {
   "cell_type": "code",
   "execution_count": null,
   "metadata": {},
   "outputs": [],
   "source": [
    "## Reconstruction\n",
    "XSVD   = U[:,:(r+1)] @ np.diag(S[:(r+1)]) @ VT[:(r+1),:] # SVD approximation\n",
    "errSVD = np.linalg.norm(X-XSVD,ord=2) / np.linalg.norm(X,ord=2)\n",
    "\n",
    "XrSVD  = rU[:,:(r+1)] @ np.diag(rS[:(r+1)]) @ rVT[:(r+1),:] # SVD approximation\n",
    "errSVD = np.linalg.norm(X-XrSVD,ord=2) / np.linalg.norm(X,ord=2)"
   ]
  },
  {
   "cell_type": "code",
   "execution_count": null,
   "metadata": {},
   "outputs": [],
   "source": [
    "(hv.Raster(X)+hv.Raster(XSVD)+hv.Raster(XrSVD)).opts(shared_axes=False)"
   ]
  },
  {
   "cell_type": "code",
   "execution_count": null,
   "metadata": {},
   "outputs": [],
   "source": [
    "## Illustrate power iterations\n",
    "X        = np.random.randn(1000,100)\n",
    "U, S, VT = np.linalg.svd(X,full_matrices=0)\n",
    "S        = np.arange(1,0,-0.01)\n",
    "X        = U @ np.diag(S) @ VT\n",
    "\n",
    "sigmas = [hv.Curve(X, \"index\", \"sigma\", label='SVD')]\n",
    "Y = X\n",
    "for q in range(1,6):\n",
    "    Y = X.T @ Y\n",
    "    Y = X @ Y\n",
    "    Uq, Sq, VTq = np.linalg.svd(Y,full_matrices=0)\n",
    "    sigmas.append( hv.Curve( Sq , label=f\"rSVD: q={q}\"))\n",
    "\n",
    "hv.Overlay(sigmas).opts( hv.opts.Curve( width=600 )).opts(title='Effect of Power Iteration')"
   ]
  }
 ],
 "metadata": {
  "kernelspec": {
   "display_name": "Python 3 (ipykernel)",
   "language": "python",
   "name": "python3"
  },
  "language_info": {
   "codemirror_mode": {
    "name": "ipython",
    "version": 3
   },
   "file_extension": ".py",
   "mimetype": "text/x-python",
   "name": "python",
   "nbconvert_exporter": "python",
   "pygments_lexer": "ipython3",
   "version": "3.9.12"
  }
 },
 "nbformat": 4,
 "nbformat_minor": 4
}

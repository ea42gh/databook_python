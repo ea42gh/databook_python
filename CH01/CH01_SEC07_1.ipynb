{
 "cells": [
  {
   "cell_type": "code",
   "execution_count": null,
   "metadata": {},
   "outputs": [],
   "source": [
    "import holoviews as hv; hv.extension('bokeh', 'plotly', logo=None)\n",
    "import panel as pn;     pn.extension()\n",
    "hv.opts.defaults(hv.opts.Raster(cmap='gray', xaxis=None, yaxis=None, frame_width=300, aspect='equal'))\n",
    "\n",
    "import numpy as np"
   ]
  },
  {
   "cell_type": "code",
   "execution_count": null,
   "metadata": {},
   "outputs": [],
   "source": [
    "t = np.arange(-3,3,0.01)\n",
    "\n",
    "Utrue = np.array([np.cos(17*t) * np.exp(-t**2), np.sin(11*t)]).T\n",
    "Strue = np.array([[2, 0],[0, 0.5]])\n",
    "Vtrue = np.array([np.sin(5*t) * np.exp(-t**2), np.cos(13*t)]).T\n",
    "\n",
    "X = Utrue @ Strue @ Vtrue.T\n",
    "h_orig=hv.Raster( X ).opts( title=\"Original\")\n",
    "#h_orig"
   ]
  },
  {
   "cell_type": "code",
   "execution_count": null,
   "metadata": {},
   "outputs": [],
   "source": [
    "sigma = 1\n",
    "Xnoisy = X + sigma*np.random.randn(*X.shape)\n",
    "h_noisy=hv.Raster( Xnoisy ).opts( title=\"Original+Noise\")\n",
    "#h_noisy"
   ]
  },
  {
   "cell_type": "code",
   "execution_count": null,
   "metadata": {},
   "outputs": [],
   "source": [
    "U, S, VT = np.linalg.svd(Xnoisy,full_matrices=0)\n",
    "N        = Xnoisy.shape[0]\n",
    "cutoff   = (4/np.sqrt(3)) * np.sqrt(N) * sigma # Hard threshold\n",
    "r        = np.max(np.where(S > cutoff)) # Keep modes w/ sig > cutoff\n",
    "print( r, cutoff, S[0:r+1])\n",
    "\n",
    "Xclean = U[:,:(r+1)] @ np.diag(S[:(r+1)]) @ VT[:(r+1),:]\n",
    "h_clean=hv.Raster( Xclean ).opts( title=f\"{100.*cutoff/S[0]:.0f}% best cutoff\")\n",
    "#h_clean"
   ]
  },
  {
   "cell_type": "code",
   "execution_count": null,
   "metadata": {},
   "outputs": [],
   "source": [
    "cdS = np.cumsum(S) / np.sum(S) # Cumulative energy\n",
    "r90 = np.min(np.where(cdS > 0.90)) # Find r to capture 90% energy\n",
    "\n",
    "X90 = U[:,:(r90+1)] @ np.diag(S[:(r90+1)]) @ VT[:(r90+1),:]\n",
    "h_90=hv.Raster( X90 ).opts( title=\"90% cutoff\")\n",
    "#h_90"
   ]
  },
  {
   "cell_type": "code",
   "execution_count": null,
   "metadata": {},
   "outputs": [],
   "source": [
    "(h_orig+h_noisy+h_clean+h_90).cols(2)"
   ]
  },
  {
   "cell_type": "code",
   "execution_count": null,
   "metadata": {},
   "outputs": [],
   "source": [
    "h_s= hv.Curve(S).opts(title='Singular Values').opts(logy=True, tools=['hover'], show_grid=True, padding=0.05)*\\\n",
    "     hv.Scatter(S).opts(size=3)*\\\n",
    "     hv.Scatter(S[0:+(r+1)]).opts(color='red', size=4)*\\\n",
    "     hv.HLine( cutoff ).opts(color='red', line_width=.8)\n",
    "     #hv.Path( np.array([[-5,-5,100,100,-5],[200,100, 100, 200, 200]]).T ).opts(line_dash='dotted', color='b')*\\\n",
    "h_cs = hv.Curve( cdS ).opts( title='Cumulative Single Values', show_grid=True, tools=['hover'], padding=0.05)*\\\n",
    "       hv.Scatter( cdS[0:r+1]).opts(size=4,color='red')*\\\n",
    "       hv.VLine( r90 ).opts(color='blue', line_width=0.8)*\\\n",
    "       hv.HLine( 0.9 ).opts(color='blue', line_width=0.8)\n",
    "\n",
    "(h_s.opts(width=500)+h_cs.opts(width=300)).opts(shared_axes=False)"
   ]
  }
 ],
 "metadata": {
  "kernelspec": {
   "display_name": "Python 3 (ipykernel)",
   "language": "python",
   "name": "python3"
  },
  "language_info": {
   "codemirror_mode": {
    "name": "ipython",
    "version": 3
   },
   "file_extension": ".py",
   "mimetype": "text/x-python",
   "name": "python",
   "nbconvert_exporter": "python",
   "pygments_lexer": "ipython3",
   "version": "3.9.12"
  }
 },
 "nbformat": 4,
 "nbformat_minor": 4
}

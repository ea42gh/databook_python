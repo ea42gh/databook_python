{
 "cells": [
  {
   "cell_type": "code",
   "execution_count": null,
   "metadata": {},
   "outputs": [],
   "source": [
    "import holoviews as hv; hv.extension(\"bokeh\", logo=False)\n",
    "import panel as pn; pn.extension()\n",
    "\n",
    "import numpy as np\n",
    "import os"
   ]
  },
  {
   "cell_type": "code",
   "execution_count": null,
   "metadata": {},
   "outputs": [],
   "source": [
    "import matplotlib.pyplot as plt\n",
    "import numpy as np\n",
    "import os\n",
    "plt.rcParams['figure.figsize'] = [16, 8]\n",
    "plt.rcParams.update({'font.size': 18})"
   ]
  },
  {
   "cell_type": "code",
   "execution_count": null,
   "metadata": {},
   "outputs": [],
   "source": [
    "# Load dataset\n",
    "H = np.loadtxt(os.path.join('..','DATA','housing.data'))\n",
    "b = H[:,-1] # housing values in $1000s\n",
    "A = H[:,:-1] # other factors\n",
    "\n",
    "# Pad with ones for nonzero offset\n",
    "A = np.pad(A,[(0,0),(0,1)],mode='constant',constant_values=1)\n",
    "\n",
    "\n",
    "# Solve Ax=b using SVD\n",
    "# Note that the book uses the Matlab-specific \"regress\" command\n",
    "U, S, VT = np.linalg.svd(A,full_matrices=0)\n",
    "x = VT.T @ np.linalg.inv(np.diag(S)) @ U.T @ b"
   ]
  },
  {
   "cell_type": "code",
   "execution_count": null,
   "metadata": {},
   "outputs": [],
   "source": [
    "sort_ind = np.argsort(H[:,-1])\n",
    "\n",
    "hv.Scatter(b, \"Neighborhood\", 'Median Home Value [$1k]', label='Housing Value').opts(width=400, show_grid=True, tools=['hover'], color='red', size=5)*\\\n",
    "hv.Curve(A@x, label='Regression').opts(tools=['hover'], alpha=0.6) +\\\n",
    "(hv.Scatter(b[sort_ind], \"Neighborhood\", 'Median Home Value [$1k]', label='Housing Value').opts(width=400, show_grid=True, tools=['hover'], color='red', size=5)*\\\n",
    "hv.Curve(A[sort_ind,:]@x, label='Regression').opts(tools=['hover'], alpha=0.6)).opts( legend_position='top_left')"
   ]
  },
  {
   "cell_type": "code",
   "execution_count": null,
   "metadata": {},
   "outputs": [],
   "source": [
    "A_mean = np.mean(A,axis=0)\n",
    "A_mean = A_mean.reshape(-1, 1)\n",
    "\n",
    "A2 = A - np.ones((A.shape[0],1)) @ A_mean.T\n",
    "\n",
    "for j in range(A.shape[1]-1):\n",
    "    A2std = np.std(A2[:,j])\n",
    "    A2[:,j] = A2[:,j]/A2std\n",
    "    \n",
    "A2[:,-1] = np.ones(A.shape[0])\n",
    "\n",
    "U, S, VT = np.linalg.svd(A2,full_matrices=0)\n",
    "x = VT.T @ np.linalg.inv(np.diag(S)) @ U.T @ b\n",
    "x_tick = range(len(x)-1)+np.ones(len(x)-1)"
   ]
  },
  {
   "cell_type": "code",
   "execution_count": null,
   "metadata": {},
   "outputs": [],
   "source": [
    "hv.Bars((x_tick,x[:-1]), 'Attribute', 'Significance').opts(width=500)"
   ]
  }
 ],
 "metadata": {
  "kernelspec": {
   "display_name": "Python 3 (ipykernel)",
   "language": "python",
   "name": "python3"
  },
  "language_info": {
   "codemirror_mode": {
    "name": "ipython",
    "version": 3
   },
   "file_extension": ".py",
   "mimetype": "text/x-python",
   "name": "python",
   "nbconvert_exporter": "python",
   "pygments_lexer": "ipython3",
   "version": "3.9.12"
  }
 },
 "nbformat": 4,
 "nbformat_minor": 4
}

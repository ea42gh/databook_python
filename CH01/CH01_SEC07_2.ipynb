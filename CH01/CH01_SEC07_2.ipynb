{
 "cells": [
  {
   "cell_type": "code",
   "execution_count": null,
   "metadata": {},
   "outputs": [],
   "source": [
    "import holoviews as hv; hv.extension('bokeh', logo=None)\n",
    "import panel as pn;     pn.extension()\n",
    "hv.opts.defaults(hv.opts.Raster(cmap='gray', xaxis=None, yaxis=None, frame_width=280, aspect='equal'))\n",
    "hv.opts.defaults(hv.opts.Curve(width=400, tools=['hover'], show_grid=True, padding=0.05))\n",
    "\n",
    "import skimage\n",
    "import numpy as np\n",
    "import scipy.misc"
   ]
  },
  {
   "cell_type": "code",
   "execution_count": null,
   "metadata": {
    "scrolled": true
   },
   "outputs": [],
   "source": [
    "n = 1000\n",
    "q = int(n/4)\n",
    "X = np.zeros((n,n))\n",
    "X[(q-1):(3*q),(q-1):(3*q)] = 1\n",
    "\n",
    "X_rot = skimage.transform.rotate(X,10)\n",
    "X_rot[np.nonzero(X_rot)] = 1\n",
    "\n",
    "pn.Row(hv.Raster(X    ).opts(title=\"Unrotated Matrix\"),\n",
    "       hv.Raster(X_rot).opts(title=\"Rotated Matrix\"))"
   ]
  },
  {
   "cell_type": "code",
   "execution_count": null,
   "metadata": {},
   "outputs": [],
   "source": [
    "U,     S,     VT     = np.linalg.svd(X,     full_matrices=0)\n",
    "U_rot, S_rot, VT_rot = np.linalg.svd(X_rot, full_matrices=0)\n",
    "\n",
    "pn.Row( hv.Curve(S   ).opts(logy=True, title=\"Spectrum of the Unrotated Matrix\" ),\n",
    "       hv.Curve(S_rot).opts(logy=True, title=\"Spectrum of the Rotated Matrix\" ))"
   ]
  }
 ],
 "metadata": {
  "kernelspec": {
   "display_name": "Python 3 (ipykernel)",
   "language": "python",
   "name": "python3"
  },
  "language_info": {
   "codemirror_mode": {
    "name": "ipython",
    "version": 3
   },
   "file_extension": ".py",
   "mimetype": "text/x-python",
   "name": "python",
   "nbconvert_exporter": "python",
   "pygments_lexer": "ipython3",
   "version": "3.9.12"
  }
 },
 "nbformat": 4,
 "nbformat_minor": 4
}

{
 "cells": [
  {
   "cell_type": "code",
   "execution_count": null,
   "metadata": {},
   "outputs": [],
   "source": [
    "import holoviews as hv; hv.extension('bokeh', 'plotly', logo=None)\n",
    "import numpy as np\n",
    "import os"
   ]
  },
  {
   "cell_type": "code",
   "execution_count": null,
   "metadata": {},
   "outputs": [],
   "source": [
    "obs = np.loadtxt(os.path.join('..','DATA','ovariancancer_obs.csv'),delimiter=',')\n",
    "\n",
    "f = open(os.path.join('..','DATA','ovariancancer_grp.csv'), \"r\")\n",
    "grp = f.read().split(\"\\n\")\n",
    "\n",
    "U, S, VT = np.linalg.svd(obs,full_matrices=0)"
   ]
  },
  {
   "cell_type": "code",
   "execution_count": null,
   "metadata": {},
   "outputs": [],
   "source": [
    "hv.Curve( S, \"x\", \"log(y)\" ).opts(logy=True,show_grid=True)*hv.Scatter( S ).opts(size=4, tools=['hover'], width=400)+\\\n",
    "hv.Curve(np.cumsum(S)/np.sum(S)).opts(show_grid=True, width=400)"
   ]
  },
  {
   "cell_type": "code",
   "execution_count": null,
   "metadata": {},
   "outputs": [],
   "source": [
    "hv.output( backend='plotly', size=150)\n",
    "color={'Normal': 'blue', 'Cancer': 'red'}\n",
    "hv.Scatter3D( [ ( VT[0,:] @ obs[j,:].T, VT[1,:] @ obs[j,:].T, VT[2,:] @ obs[j,:].T, color[grp[j]] )\n",
    "              for j in range(obs.shape[0]) ], kdims=[\"x\",\"y\", \"z\"], vdims=\"group\")\\\n",
    "  .opts( color=\"group\", size=3 )"
   ]
  }
 ],
 "metadata": {
  "kernelspec": {
   "display_name": "Python 3 (ipykernel)",
   "language": "python",
   "name": "python3"
  },
  "language_info": {
   "codemirror_mode": {
    "name": "ipython",
    "version": 3
   },
   "file_extension": ".py",
   "mimetype": "text/x-python",
   "name": "python",
   "nbconvert_exporter": "python",
   "pygments_lexer": "ipython3",
   "version": "3.9.12"
  }
 },
 "nbformat": 4,
 "nbformat_minor": 4
}

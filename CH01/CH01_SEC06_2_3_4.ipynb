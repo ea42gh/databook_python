{
 "cells": [
  {
   "cell_type": "code",
   "execution_count": null,
   "metadata": {},
   "outputs": [],
   "source": [
    "import holoviews as hv; hv.extension('bokeh', 'plotly', logo=None)\n",
    "import panel as pn;     pn.extension()\n",
    "import numpy as np\n",
    "import os\n",
    "import scipy.io"
   ]
  },
  {
   "cell_type": "code",
   "execution_count": null,
   "metadata": {
    "scrolled": true
   },
   "outputs": [],
   "source": [
    "dbg=False\n",
    "if dbg:\n",
    "    import matplotlib.pyplot as plt\n",
    "    import numpy as np\n",
    "    import os\n",
    "    import scipy.io\n",
    "    plt.rcParams['figure.figsize'] = [8, 8]\n",
    "    plt.rcParams.update({'font.size': 18})"
   ]
  },
  {
   "cell_type": "code",
   "execution_count": null,
   "metadata": {
    "scrolled": true
   },
   "outputs": [],
   "source": [
    "mat_contents = scipy.io.loadmat(os.path.join('..','DATA','allFaces.mat'))\n",
    "faces        = mat_contents['faces']\n",
    "m            = int(mat_contents['m'])\n",
    "n            = int(mat_contents['n'])\n",
    "nfaces       = np.ndarray.flatten(mat_contents['nfaces'])\n",
    "\n",
    "# We use the first 36 people for training data\n",
    "trainingFaces = faces[:,:np.sum(nfaces[:36])]\n",
    "avgFace       = np.mean(trainingFaces,axis=1) # size n*m by 1\n",
    "\n",
    "# Compute eigenfaces on mean-subtracted training data\n",
    "X        = trainingFaces - np.tile(avgFace,(trainingFaces.shape[1],1)).T\n",
    "U, S, VT = np.linalg.svd(X,full_matrices=0)"
   ]
  },
  {
   "cell_type": "code",
   "execution_count": null,
   "metadata": {},
   "outputs": [],
   "source": [
    "pn.interact( lambda i=0: (hv.Raster( np.reshape(avgFace,(m,n)).T ).opts(title='Average Face')+\\\n",
    "                        hv.Raster( np.reshape(U[:,i],(m,n)).T  ).opts(title=f'Eigenface {i}'))\\\n",
    "                       .opts(hv.opts.Raster(cmap='gray', xaxis=None, yaxis=None, frame_width=150, aspect='equal')).opts( shared_axes=False ),\n",
    "            i = (0,U.shape[1]-1)\n",
    "           )"
   ]
  },
  {
   "cell_type": "code",
   "execution_count": null,
   "metadata": {},
   "outputs": [],
   "source": [
    "## Now show eigenface reconstruction of image that was omitted from test set\n",
    "\n",
    "testFace   = faces[:,np.sum(nfaces[:36])] # First face of person 37\n",
    "testFaceMS = testFace - avgFace\n",
    "\n",
    "def reconstruct(r):\n",
    "    print( '  ', r)\n",
    "    reconFace = avgFace + U[:,:r]  @ U[:,:r].T @ testFaceMS\n",
    "    return np.reshape(reconFace,(m,n)).T\n",
    "\n",
    "r_list   = [25, 50, 100, 200, 400, 800, 1600]\n",
    "img_data = [reconstruct(r) for r in r_list]"
   ]
  },
  {
   "cell_type": "code",
   "execution_count": null,
   "metadata": {},
   "outputs": [],
   "source": [
    "h_opts     = hv.opts.Raster( cmap = 'gray', xaxis = None, yaxis = None, frame_width = 150, aspect = 'equal')\n",
    "h_testFace = hv.Raster( np.reshape(avgFace,(m,n)).T ).opts(title='Original Image')\n",
    "\n",
    "#hv.DynamicMap( lambda r:( h_testFace+reconstruct(r)), kdims=['r'] ).redim.values(r=r_list)\n",
    "pn.interact(lambda i: ( h_testFace+hv.Raster(img_data[i]).opts(title=f\"r={r_list[i]}\"))\\\n",
    "                      .opts(shared_axes=False).opts(h_opts), i=(0,len(r_list)-1))"
   ]
  },
  {
   "cell_type": "code",
   "execution_count": null,
   "metadata": {},
   "outputs": [],
   "source": [
    "## Now show eigenface reconstruction of image that was omitted from test set\n",
    "if False:\n",
    "    testFace = faces[:,np.sum(nfaces[:36])] # First face of person 37\n",
    "    plt.imshow(np.reshape(testFace,(m,n)).T)\n",
    "    plt.set_cmap('gray')\n",
    "    plt.title('Original Image')\n",
    "    plt.axis('off')\n",
    "    plt.show()\n",
    "\n",
    "    testFaceMS = testFace - avgFace\n",
    "    r_list = [25, 50, 100, 200, 400, 800, 1600]\n",
    "\n",
    "    for r in r_list:\n",
    "        reconFace = avgFace + U[:,:r]  @ U[:,:r].T @ testFaceMS\n",
    "        img       = plt.imshow(np.reshape(reconFace,(m,n)).T)\n",
    "        img.set_cmap('gray')\n",
    "        plt.title('r = ' + str(r))\n",
    "        plt.axis('off')\n",
    "        plt.show()"
   ]
  },
  {
   "cell_type": "code",
   "execution_count": null,
   "metadata": {},
   "outputs": [],
   "source": [
    "## Project person 2 and 7 onto PC5 and PC6\n",
    "\n",
    "P1num = 2 # Person number 2\n",
    "P2num = 7 # Person number 7\n",
    "\n",
    "P1 = faces[:,np.sum(nfaces[:(P1num-1)]):np.sum(nfaces[:P1num])]\n",
    "P2 = faces[:,np.sum(nfaces[:(P2num-1)]):np.sum(nfaces[:P2num])]\n",
    "\n",
    "P1 = P1 - np.tile(avgFace,(P1.shape[1],1)).T\n",
    "P2 = P2 - np.tile(avgFace,(P2.shape[1],1)).T\n",
    "\n",
    "PCAmodes = [5, 6] # Project onto PCA modes 5 and 6\n",
    "PCACoordsP1 = U[:,PCAmodes-np.ones_like(PCAmodes)].T @ P1\n",
    "PCACoordsP2 = U[:,PCAmodes-np.ones_like(PCAmodes)].T @ P2"
   ]
  },
  {
   "cell_type": "code",
   "execution_count": null,
   "metadata": {},
   "outputs": [],
   "source": [
    "if dbg:\n",
    "    plt.plot(PCACoordsP1[0,:],PCACoordsP1[1,:],'d',color='k',label='Person 2')\n",
    "    plt.plot(PCACoordsP2[0,:],PCACoordsP2[1,:],'^',color='r',label='Person 7')\n",
    "\n",
    "    plt.legend()\n",
    "    plt.show()"
   ]
  },
  {
   "cell_type": "code",
   "execution_count": null,
   "metadata": {},
   "outputs": [],
   "source": []
  }
 ],
 "metadata": {
  "kernelspec": {
   "display_name": "Python 3 (ipykernel)",
   "language": "python",
   "name": "python3"
  },
  "language_info": {
   "codemirror_mode": {
    "name": "ipython",
    "version": 3
   },
   "file_extension": ".py",
   "mimetype": "text/x-python",
   "name": "python",
   "nbconvert_exporter": "python",
   "pygments_lexer": "ipython3",
   "version": "3.9.12"
  }
 },
 "nbformat": 4,
 "nbformat_minor": 4
}

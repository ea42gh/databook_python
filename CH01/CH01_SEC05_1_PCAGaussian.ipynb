{
 "cells": [
  {
   "cell_type": "code",
   "execution_count": null,
   "metadata": {},
   "outputs": [],
   "source": [
    "import holoviews as hv; hv.extension('bokeh',logo=None)\n",
    "import numpy as np"
   ]
  },
  {
   "cell_type": "code",
   "execution_count": null,
   "metadata": {},
   "outputs": [],
   "source": [
    "xC  = np.array([2, 1])                             # Center of data (mean)\n",
    "sig = np.array([2, 0.5])                           # Principal axes\n",
    "\n",
    "theta = np.pi/3                                    # Rotate cloud by pi/3\n",
    "\n",
    "R = np.array([[np.cos(theta), -np.sin(theta)],     # Rotation matrix\n",
    "              [np.sin(theta),  np.cos(theta)]])\n",
    "\n",
    "nPoints = 10000                                    # Create 10,000 points\n",
    "X = R @ np.diag(sig) @ np.random.randn(2,nPoints) + np.diag(xC) @ np.ones((2,nPoints))"
   ]
  },
  {
   "cell_type": "code",
   "execution_count": null,
   "metadata": {},
   "outputs": [],
   "source": [
    "## PCA\n",
    "Xavg = np.mean(X,axis=1)                            # Compute mean\n",
    "B    = X - np.tile(Xavg,(nPoints,1)).T              # Mean-subtracted data\n",
    "\n",
    "#                                                   # Find principal components (SVD)\n",
    "U, S, VT = np.linalg.svd(B/np.sqrt(nPoints),full_matrices=0)\n",
    "\n",
    "#                                                   # 1-std confidence interval\n",
    "theta = 2 * np.pi * np.arange(0,1,0.01)\n",
    "Xstd = U @ np.diag(S) @ np.array([np.cos(theta),np.sin(theta)])"
   ]
  },
  {
   "cell_type": "code",
   "execution_count": null,
   "metadata": {},
   "outputs": [],
   "source": [
    "## f_ch01_ex03_1b\n",
    "\n",
    "h=\\\n",
    "hv.Scatter((X[0,:],X[1,:])).opts(alpha=0.2, width=300, height=450)\\\n",
    "+\\\n",
    "hv.Scatter((X[0,:],X[1,:])).opts(alpha=0.2, width=300, height=450)*\\\n",
    "hv.Curve( (Xavg[0] +   Xstd[0,:], Xavg[1] +   Xstd[1,:])).opts(color='red')*\\\n",
    "hv.Curve( (Xavg[0] + 2*Xstd[0,:], Xavg[1] + 2*Xstd[1,:])).opts(color='red')*\\\n",
    "hv.Curve( (Xavg[0] + 3*Xstd[0,:], Xavg[1] + 3*Xstd[1,:])).opts(color='red')*\\\n",
    "hv.Curve((np.array([Xavg[0], Xavg[0]+U[0,0]*S[0]]),\n",
    "          np.array([Xavg[1], Xavg[1]+U[1,0]*S[0]]))).opts(color='cyan')*\\\n",
    "hv.Curve((np.array([Xavg[0], Xavg[0]+U[0,1]*S[1]]),\n",
    "          np.array([Xavg[1], Xavg[1]+U[1,1]*S[1]]))).opts(color='cyan')\n",
    "\n",
    "\n",
    "h.opts(hv.opts.Scatter(show_grid=True)).opts(title=\"Principal Components Analysis\")"
   ]
  }
 ],
 "metadata": {
  "kernelspec": {
   "display_name": "Python 3 (ipykernel)",
   "language": "python",
   "name": "python3"
  },
  "language_info": {
   "codemirror_mode": {
    "name": "ipython",
    "version": 3
   },
   "file_extension": ".py",
   "mimetype": "text/x-python",
   "name": "python",
   "nbconvert_exporter": "python",
   "pygments_lexer": "ipython3",
   "version": "3.9.12"
  }
 },
 "nbformat": 4,
 "nbformat_minor": 4
}

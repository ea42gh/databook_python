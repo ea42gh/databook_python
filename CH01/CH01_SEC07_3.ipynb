{
 "cells": [
  {
   "cell_type": "code",
   "execution_count": null,
   "metadata": {},
   "outputs": [],
   "source": [
    "import holoviews as hv; hv.extension('bokeh', logo=None)\n",
    "import panel as pn;     pn.extension()\n",
    "\n",
    "import numpy as np\n",
    "import skimage.transform"
   ]
  },
  {
   "cell_type": "code",
   "execution_count": null,
   "metadata": {},
   "outputs": [],
   "source": [
    "n = 1000\n",
    "q = int(n/4)\n",
    "X = np.zeros((n,n))\n",
    "X[(q-1):(3*q),(q-1):(3*q)] = 1\n",
    "\n",
    "nAngles = 12 # Sweep through 12 different angles, from 0:4:44 degrees\n",
    "cm_np = np.array([[0,0,2/3],\n",
    "                 [0,0,1],\n",
    "                 [0,1/3,1],\n",
    "                 [0,2/3,1],\n",
    "                 [0,1,1],\n",
    "                 [1/3,1,2/3],\n",
    "                 [2/3,1,1/3],\n",
    "                 [1,1,0],\n",
    "                 [1,2/3,0],\n",
    "                 [1,1/3,0],\n",
    "                 [1,0,0],\n",
    "                 [2/3,0,0]])\n",
    "\n",
    "U, S, VT = np.linalg.svd(X,full_matrices=0)\n",
    "S_max=S[0]"
   ]
  },
  {
   "cell_type": "code",
   "execution_count": null,
   "metadata": {},
   "outputs": [],
   "source": [
    "pn.Row( hv.Raster(np.ma.masked_where(X == 0, X)).opts(cmap='jet', xaxis=None, yaxis=None),\n",
    "        hv.Curve( S, \"index\", \"sigma\" ).opts(logy=True, show_grid=True, padding=0.05)\n",
    ")"
   ]
  },
  {
   "cell_type": "code",
   "execution_count": null,
   "metadata": {},
   "outputs": [],
   "source": [
    "Xrot   = X\n",
    "imgs   = []\n",
    "sigmas = []\n",
    "\n",
    "for j in range(nAngles):\n",
    "    Xrot = skimage.transform.rotate(X,j*4) #rotate by theta = j*4 degrees\n",
    "    Xrot[np.nonzero(Xrot)] = j\n",
    "    \n",
    "    U, S, VT = np.linalg.svd(Xrot, full_matrices=0)\n",
    "    #imgs.append(  hv.Raster(np.ma.masked_where(X == 0, X)).opts(cmap='jet', xaxis=None, yaxis=None) )\n",
    "    sigmas.append( hv.Curve( (1. / S_max)*S, \"index\", \"sigma\" , label=f\"{4*j} degrees\" ).opts(width=500, logy=True, ylim=(1e-16, 1), show_grid=True, padding=0.05) )\n",
    "\n",
    "pn.Row( hv.Overlay(sigmas).opts( legend_position='right'))"
   ]
  },
  {
   "cell_type": "code",
   "execution_count": null,
   "metadata": {},
   "outputs": [],
   "source": []
  }
 ],
 "metadata": {
  "kernelspec": {
   "display_name": "Python 3 (ipykernel)",
   "language": "python",
   "name": "python3"
  },
  "language_info": {
   "codemirror_mode": {
    "name": "ipython",
    "version": 3
   },
   "file_extension": ".py",
   "mimetype": "text/x-python",
   "name": "python",
   "nbconvert_exporter": "python",
   "pygments_lexer": "ipython3",
   "version": "3.9.12"
  }
 },
 "nbformat": 4,
 "nbformat_minor": 4
}

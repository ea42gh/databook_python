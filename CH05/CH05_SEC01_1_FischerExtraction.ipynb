{
 "cells": [
  {
   "cell_type": "code",
   "execution_count": null,
   "metadata": {},
   "outputs": [],
   "source": [
    "import numpy as np\n",
    "from scipy import io\n",
    "import os\n",
    "\n",
    "import holoviews as hv; hv.extension('plotly','bokeh', logo=False)"
   ]
  },
  {
   "cell_type": "code",
   "execution_count": null,
   "metadata": {},
   "outputs": [],
   "source": [
    "fisheriris_mat = io.loadmat(os.path.join('..','DATA','fisheriris.mat'))\n",
    "meas           = fisheriris_mat['meas']\n",
    "\n",
    "x1 = meas[:50,:]          # setosa\n",
    "x2 = meas[50:100,:]       # versicolor\n",
    "x3 = meas[100:,:]         # virginica\n",
    "\n",
    "hv.output(backend='plotly', size=200)\n",
    "h=\\\n",
    "hv.Scatter3D((x1[:,0], x1[:,1], x1[:,3]))*\\\n",
    "hv.Scatter3D((x2[:,0], x2[:,1], x2[:,3]))*\\\n",
    "hv.Scatter3D((x3[:,0], x3[:,1], x3[:,3]))\n",
    "\n",
    "h.opts(hv.opts.Scatter3D(size=3))"
   ]
  },
  {
   "cell_type": "code",
   "execution_count": null,
   "metadata": {},
   "outputs": [],
   "source": [
    "dogdata_mat   = io.loadmat(os.path.join('..','DATA','dogData.mat'))\n",
    "catdata_mat   = io.loadmat(os.path.join('..','DATA','catData.mat'))\n",
    "\n",
    "dogdata_w_mat = io.loadmat(os.path.join('..','DATA','dogData_w.mat'))\n",
    "catdata_w_mat = io.loadmat(os.path.join('..','DATA','catData_w.mat'))\n",
    "\n",
    "dog           = dogdata_mat['dog']\n",
    "cat           = catdata_mat['cat']\n",
    "\n",
    "dog_wave      = dogdata_w_mat['dog_wave']\n",
    "cat_wave      = catdata_w_mat['cat_wave']\n",
    "\n",
    "CD            = np.concatenate((dog,cat),axis=1)\n",
    "CD2           = np.concatenate((dog_wave,cat_wave),axis=1)\n",
    "\n",
    "u,s,vT        = np.linalg.svd(CD -np.mean(CD), full_matrices=0)\n",
    "u2,s2,vT2     = np.linalg.svd(CD2-np.mean(CD2),full_matrices=0)"
   ]
  },
  {
   "cell_type": "code",
   "execution_count": null,
   "metadata": {},
   "outputs": [],
   "source": [
    "def img_plot(u,n):\n",
    "    imgs = []\n",
    "    for j in range(4):\n",
    "        if n == 64:\n",
    "            U  = np.flipud(np.reshape(u[:,j],(n,n)))\n",
    "            U2 = U[::2,::2]\n",
    "        else:\n",
    "            U2 = np.flipud(np.reshape(u[:,j],(n,n)))\n",
    "            \n",
    "        imgs.append(hv.Image(np.rot90(U2)))\n",
    "    h=\\\n",
    "    hv.Layout(imgs).opts(hv.opts.Image(cmap='hot',xaxis=None, yaxis=None, invert_yaxis=True))\n",
    "\n",
    "    return h.opts(shared_axes=False).cols(2)"
   ]
  },
  {
   "cell_type": "code",
   "execution_count": null,
   "metadata": {},
   "outputs": [],
   "source": [
    "hv.output(backend='bokeh',size=100)\n",
    "img_plot(u,64)"
   ]
  },
  {
   "cell_type": "code",
   "execution_count": null,
   "metadata": {},
   "outputs": [],
   "source": [
    "h_list = [ hv.Spikes( (range(len(s)),vT[j,:]), kdims=\"Index\", vdims=\"y\" ).opts(width=700, height=170) for j in range(4)]\n",
    "hv.Layout(h_list).cols(1)"
   ]
  },
  {
   "cell_type": "code",
   "execution_count": null,
   "metadata": {},
   "outputs": [],
   "source": [
    "img_plot(dog_wave,32)"
   ]
  },
  {
   "cell_type": "code",
   "execution_count": null,
   "metadata": {},
   "outputs": [],
   "source": [
    "img_plot(u2,32)"
   ]
  },
  {
   "cell_type": "code",
   "execution_count": null,
   "metadata": {},
   "outputs": [],
   "source": [
    "h_list = [ hv.Spikes( (range(len(s2)),vT2[j,:]), kdims=\"Index\", vdims=\"y\" ).opts(width=700, height=170) for j in range(4)]\n",
    "hv.Layout(h_list).cols(1)"
   ]
  },
  {
   "cell_type": "code",
   "execution_count": null,
   "metadata": {},
   "outputs": [],
   "source": [
    "xbin       = np.linspace(-0.25,0.25,20)\n",
    "xbin_edges = np.append(xbin,xbin[-1]+(xbin[1]-xbin[0])) - (xbin[1]-xbin[0])/2\n",
    "h_list     = []\n",
    "for j in range(4):\n",
    "    pdf1 = np.histogram(vT[j,:80],bins=xbin_edges)[0]\n",
    "    pdf2 = np.histogram(vT[j,80:],bins=xbin_edges)[0]\n",
    "    h_list.extend( [hv.Curve((xbin,pdf1))* hv.Curve((xbin,pdf2))])\n",
    "    \n",
    "    pdf1 = np.histogram(vT2[j,:80],bins=xbin_edges)[0]\n",
    "    pdf2 = np.histogram(vT2[j,80:],bins=xbin_edges)[0]\n",
    "    h_list.extend( [hv.Curve((xbin,pdf1))* hv.Curve((xbin,pdf2))])\n",
    "\n",
    "hv.Layout(h_list).opts(\"Curve\", height=170).cols(2)"
   ]
  },
  {
   "cell_type": "code",
   "execution_count": null,
   "metadata": {},
   "outputs": [],
   "source": [
    "hv.output( backend='plotly', size=300 )\n",
    "h =\\\n",
    "hv.Scatter3D((vT [0,:80],vT [1,:80],vT [2,:80]))*\\\n",
    "hv.Scatter3D((vT [0,80:],vT [1,80:],vT [2,80:]))+\\\n",
    "hv.Scatter3D((vT2[0,:80],vT2[1,:80],vT2[2,:80]))*\\\n",
    "hv.Scatter3D((vT2[0,80:],vT2[1,80:],vT2[2,80:]))\n",
    "\n",
    "h.opts(\"Scatter3D\", size=1)"
   ]
  },
  {
   "cell_type": "code",
   "execution_count": null,
   "metadata": {},
   "outputs": [],
   "source": [
    "master = np.zeros((32*5,32*4))\n",
    "count  = 0\n",
    "\n",
    "for jj in range(4):\n",
    "    for j in range(5):\n",
    "        T2     = np.flipud(np.reshape(dog[:,count],(64,64)))\n",
    "        T      = T2[::2,::2]\n",
    "        master[32*j:32*(j+1),32*jj:32*(jj+1)] = T\n",
    "        count  += 1\n",
    "\n",
    "hv.output(backend='bokeh', size=100)\n",
    "hv.Image( np.rot90(master) ).opts( cmap='gray', invert_yaxis=True, width=800, height=600)"
   ]
  },
  {
   "cell_type": "code",
   "execution_count": null,
   "metadata": {},
   "outputs": [],
   "source": [
    "master = np.zeros((32*5,32*4))\n",
    "count  = 0\n",
    "\n",
    "for jj in range(4):\n",
    "    for j in range(5):\n",
    "        T2     = np.flipud(np.reshape(cat[:,count],(64,64)))\n",
    "        T      = T2[::2,::2]\n",
    "        master[32*j:32*(j+1),32*jj:32*(jj+1)] = T\n",
    "        count += 1\n",
    "hv.Image( np.rot90(master) ).opts( cmap='gray', invert_yaxis=True, width=800, height=600)"
   ]
  }
 ],
 "metadata": {
  "kernelspec": {
   "display_name": "Python 3 (ipykernel)",
   "language": "python",
   "name": "python3"
  },
  "language_info": {
   "codemirror_mode": {
    "name": "ipython",
    "version": 3
   },
   "file_extension": ".py",
   "mimetype": "text/x-python",
   "name": "python",
   "nbconvert_exporter": "python",
   "pygments_lexer": "ipython3",
   "version": "3.10.4"
  }
 },
 "nbformat": 4,
 "nbformat_minor": 4
}

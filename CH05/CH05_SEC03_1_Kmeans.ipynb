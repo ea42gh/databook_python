{
 "cells": [
  {
   "cell_type": "code",
   "execution_count": null,
   "metadata": {},
   "outputs": [],
   "source": [
    "import numpy as np\n",
    "from sklearn.cluster import KMeans\n",
    "from scipy.cluster import hierarchy\n",
    "from scipy.spatial.distance import pdist\n",
    "\n",
    "import holoviews as hv; hv.extension('bokeh', 'plotly', logo=False)\n",
    "import panel as pn;     pn.extension()\n",
    "import plotly.graph_objs as go"
   ]
  },
  {
   "cell_type": "code",
   "execution_count": null,
   "metadata": {},
   "outputs": [],
   "source": [
    "# Training and testing set sizes\n",
    "n1 = 100                                  # Train\n",
    "n2 = 50                                   # Test\n",
    "\n",
    "#                                           Random ellipse 1 centered at (0,0)\n",
    "x = np.random.randn(n1+n2)\n",
    "y = 0.5*np.random.randn(n1+n2)\n",
    "\n",
    "#                                           Random ellipse 2 centered at (1,-2)\n",
    "x2 = np.random.randn(n1+n2) + 1\n",
    "y2 = 0.2*np.random.randn(n1+n2) - 2\n",
    "\n",
    "#                                           Rotate ellipse 2 by theta\n",
    "theta  =  np.pi/4\n",
    "A      =  np.zeros((2,2))\n",
    "A[0,0] =  np.cos(theta)\n",
    "A[0,1] = -np.sin(theta)\n",
    "A[1,0] =  np.sin(theta)\n",
    "A[1,1] =  np.cos(theta)\n",
    "\n",
    "x3     = A[0,0]*x2 + A[0,1]*y2\n",
    "y3     = A[1,0]*x2 + A[1,1]*y2"
   ]
  },
  {
   "cell_type": "code",
   "execution_count": null,
   "metadata": {},
   "outputs": [],
   "source": [
    "hv.Scatter((x[:n1],y[:n1]))*hv.Scatter((x3[:n1],y3[:n1]))"
   ]
  },
  {
   "cell_type": "code",
   "execution_count": null,
   "metadata": {},
   "outputs": [],
   "source": [
    "# Training set: first 200 of 240 points\n",
    "X1    = np.column_stack((x3[:n1],y3[:n1]))\n",
    "X2    = np.column_stack((x[:n1],y[:n1]))\n",
    "\n",
    "Y     = np.concatenate((X1,X2))\n",
    "Z     = np.column_stack((np.ones(n1),2*np.ones(n1)))\n",
    "\n",
    "# Test set: remaining 40 points\n",
    "x1test = np.column_stack((x3[n1:],y3[n1:]))\n",
    "x2test = np.column_stack((x[n1:],y[n1:]))"
   ]
  },
  {
   "cell_type": "code",
   "execution_count": null,
   "metadata": {},
   "outputs": [],
   "source": [
    "imgs = []\n",
    "\n",
    "g1 = np.array([-1, 0])                                     # Initial guess\n",
    "g2 = np.array([1, 0])\n",
    "\n",
    "for j in range(4):\n",
    "    class1 = np.zeros((1,2))\n",
    "    class2 = np.zeros((1,2))\n",
    "    for jj in range(Y.shape[0]):\n",
    "        d1 = np.linalg.norm(g1-Y[jj,:],ord=2)\n",
    "        d2 = np.linalg.norm(g2-Y[jj,:],ord=2)\n",
    "        if d1<d2:\n",
    "            class1 = np.append(class1,Y[jj,:].reshape((1,2)),axis=0)\n",
    "        else:\n",
    "            class2 = np.append(class2,Y[jj,:].reshape((1,2)),axis=0)\n",
    "    class1 = np.delete(class1, (0), axis=0)                # remove zeros used to initialize\n",
    "    class2 = np.delete(class2, (0), axis=0)\n",
    "    \n",
    "    imgs.append( hv.Scatter((class1[:,0],   class1[:,1]))*\\\n",
    "                 hv.Scatter((class2[:,0],   class2[:,1]))*\\\n",
    "                 hv.Scatter(([g1[0],g2[0]], [g1[1], g2[1]] )).opts(color=\"black\", size=10, marker=\"star\")\n",
    "               )\n",
    "\n",
    "    g1 = np.array([np.mean(class1[:,0]),np.mean(class1[:,1])])\n",
    "    g2 = np.array([np.mean(class2[:,0]),np.mean(class2[:,1])])\n",
    "\n",
    "hv.Layout(imgs).opts(\"Scatter\", width=300).cols(2)"
   ]
  },
  {
   "cell_type": "code",
   "execution_count": null,
   "metadata": {},
   "outputs": [],
   "source": [
    "# kmeans code\n",
    "kmeans = KMeans(n_clusters=2, random_state=0).fit(Y)\n",
    "c      = kmeans.cluster_centers_\n",
    "ind    = kmeans.labels_\n",
    "\n",
    "# result from previous section\n",
    "h_prev = hv.Scatter(([g1[0],g2[0]],[g1[1],g2[1]]), label='prev')\n",
    "# kmeans result\n",
    "h_kmeans = hv.Scatter( (c[:,0],c[:,1]), label='kmeans')\n",
    "\n",
    "(h_kmeans * h_prev).opts( \"Scatter\", size=6) "
   ]
  },
  {
   "cell_type": "code",
   "execution_count": null,
   "metadata": {},
   "outputs": [],
   "source": [
    "midx   = (c[0,0]+c[1,0])/2\n",
    "midy   = (c[0,1]+c[1,1])/2\n",
    "slope  = (c[1,1]-c[0,1])/(c[1,0]-c[0,0])    # rise/run\n",
    "b      = midy+(1/slope)*midx\n",
    "xsep   = np.arange(-1,2,0.1)\n",
    "ysep   = -(1/slope)*xsep+b"
   ]
  },
  {
   "cell_type": "code",
   "execution_count": null,
   "metadata": {},
   "outputs": [],
   "source": [
    "h=\\\n",
    "hv.Scatter((x[:n1],y[:n1]))*hv.Scatter((x3[:n1],y3[:n1]))*hv.Curve((xsep,ysep)).opts(ylim=(-3,3),color='black',width=400,height=200)+\\\n",
    "hv.Scatter((x[n1:],y[n1:]))*hv.Scatter((x3[n1:],y3[n1:]))*hv.Curve((xsep,ysep)).opts(ylim=(-3,3),color='black',width=400,height=200)\n",
    "h.cols(1)"
   ]
  },
  {
   "cell_type": "code",
   "execution_count": null,
   "metadata": {},
   "outputs": [],
   "source": [
    "## Dendrograms\n",
    "\n",
    "Y3     = np.concatenate((X1[:50,:],X2[:50,:]))\n",
    "\n",
    "Y2     = pdist(Y3, metric='euclidean')\n",
    "Z      = hierarchy.linkage(Y2,method='average')\n",
    "thresh = 0.85*np.max(Z[:,2])\n",
    "\n",
    "dn = hierarchy.dendrogram(Z,p=100,color_threshold=thresh, no_labels=True)"
   ]
  },
  {
   "cell_type": "code",
   "execution_count": null,
   "metadata": {},
   "outputs": [],
   "source": [
    "hv.Spikes((range(100),dn['leaves']), \"x\", \"y\").opts(width=600, line_width=2)*\\\n",
    "hv.Curve((np.array([0, 100]),    np.array([50, 50]))).opts(color='red',line_dash='dotted')*\\\n",
    "hv.Curve((np.array([50.5, 50.5]),np.array([0, 100]))).opts(color='red',line_dash='dotted')"
   ]
  }
 ],
 "metadata": {
  "kernelspec": {
   "display_name": "Python 3 (ipykernel)",
   "language": "python",
   "name": "python3"
  },
  "language_info": {
   "codemirror_mode": {
    "name": "ipython",
    "version": 3
   },
   "file_extension": ".py",
   "mimetype": "text/x-python",
   "name": "python",
   "nbconvert_exporter": "python",
   "pygments_lexer": "ipython3",
   "version": "3.10.4"
  }
 },
 "nbformat": 4,
 "nbformat_minor": 4
}

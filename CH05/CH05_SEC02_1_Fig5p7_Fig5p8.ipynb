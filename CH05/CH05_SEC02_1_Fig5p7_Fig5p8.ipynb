{
 "cells": [
  {
   "cell_type": "code",
   "execution_count": null,
   "metadata": {},
   "outputs": [],
   "source": [
    "import numpy as np\n",
    "import holoviews as hv; hv.extension('bokeh', logo=False)"
   ]
  },
  {
   "cell_type": "code",
   "execution_count": null,
   "metadata": {},
   "outputs": [],
   "source": [
    "# Training and test set sizes\n",
    "n1 = 100                                  # Training set size\n",
    "n2 = 50                                   # Test set size\n",
    "\n",
    "#                                         Random ellipse 1 centered at (-2,0)\n",
    "x =     np.random.randn(n1+n2) - 2\n",
    "y = 0.5*np.random.randn(n1+n2)\n",
    "\n",
    "#                                         Random ellipse 5 centered at (1,0)\n",
    "x5 = 2.0*np.random.randn(n1+n2) + 1\n",
    "y5 = 0.5*np.random.randn(n1+n2)\n",
    "\n",
    "#                                         Random ellipse 2 centered at (2,-2)\n",
    "x2 =     np.random.randn(n1+n2) + 2\n",
    "y2 = 0.2*np.random.randn(n1+n2) - 2\n",
    "\n",
    "#                                         Rotate ellipse 2 by theta\n",
    "theta  =  np.pi/4\n",
    "A      =  np.zeros((2,2))\n",
    "A[0,0] =  np.cos(theta)\n",
    "A[0,1] = -np.sin(theta)\n",
    "A[1,0] =  np.sin(theta)\n",
    "A[1,1] =  np.cos(theta)\n",
    "\n",
    "x3 = A[0,0]*x2 + A[0,1]*y2\n",
    "y3 = A[1,0]*x2 + A[1,1]*y2"
   ]
  },
  {
   "cell_type": "code",
   "execution_count": null,
   "metadata": {},
   "outputs": [],
   "source": [
    "h=\\\n",
    "hv.Scatter((x [:n1],y [:n1])).opts(color='gray')*\\\n",
    "hv.Scatter((x3[:n1],y3[:n1])).opts(color='gray')\\\n",
    "+\\\n",
    "hv.Scatter((x [:70],y [:70])).opts(color='gray')*\\\n",
    "hv.Scatter((x3[:70],y3[:70])).opts(color='gray')*\\\n",
    "hv.Scatter((x [70:100],y [70:100])).opts(color='green')*\\\n",
    "hv.Scatter((x3[70:100],y3[70:100])).opts(color='magenta')\\\n",
    "+\\\n",
    "hv.Scatter((x5[:n1],y5[:n1])).opts(color='gray')*\\\n",
    "hv.Scatter((x3[:n1],y3[:n1])).opts(color='gray')\\\n",
    "+\\\n",
    "hv.Scatter((x5[:70],y5[:70])).opts(color='gray')*\\\n",
    "hv.Scatter((x3[:70],y3[:70])).opts(color='gray')*\\\n",
    "hv.Scatter((x5[70:100],y5[70:100])).opts(color='green')*\\\n",
    "hv.Scatter((x3[70:100],y3[70:100])).opts(color='magenta')\n",
    "\n",
    "h.opts(\"Scatter\", size=8, alpha=0.6).cols(2)"
   ]
  },
  {
   "cell_type": "code",
   "execution_count": null,
   "metadata": {},
   "outputs": [],
   "source": [
    "n1 = 300 # training set size\n",
    "x1 = 1.5*np.random.randn(n1)-1.5\n",
    "y1 = 1.2*np.random.randn(n1)+np.power(x1+1.5,2)-7\n",
    "x2 = 1.5*np.random.randn(n1)+1.5\n",
    "y2 = 1.2*np.random.randn(n1)-np.power(x2-1.5,2)+7\n",
    "\n",
    "h_1 = (hv.Scatter((x1,y1))*hv.Scatter((x2,y2))).opts(xlim=(-6,6), ylim=(-12,12))\n",
    "\n",
    "r  = 7 + np.random.randn(n1)\n",
    "th = 2*np.pi*np.random.randn(n1)\n",
    "xr = r * np.cos(th)\n",
    "yr = r * np.sin(th)\n",
    "\n",
    "x5 = np.random.randn(n1)\n",
    "y5 = np.random.randn(n1)\n",
    "\n",
    "h_2 = (hv.Scatter((xr,yr))*hv.Scatter((x5,y5))).opts(xlim=(-10,10), ylim=(-10,10))\n",
    "                                                     \n",
    "(h_1+h_2).opts(\"Scatter\", width=500, size=4, alpha=.8).opts( shared_axes=False).cols(1)"
   ]
  }
 ],
 "metadata": {
  "kernelspec": {
   "display_name": "Python 3 (ipykernel)",
   "language": "python",
   "name": "python3"
  },
  "language_info": {
   "codemirror_mode": {
    "name": "ipython",
    "version": 3
   },
   "file_extension": ".py",
   "mimetype": "text/x-python",
   "name": "python",
   "nbconvert_exporter": "python",
   "pygments_lexer": "ipython3",
   "version": "3.10.4"
  }
 },
 "nbformat": 4,
 "nbformat_minor": 4
}

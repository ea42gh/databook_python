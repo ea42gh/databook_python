{
 "cells": [
  {
   "cell_type": "code",
   "execution_count": null,
   "metadata": {},
   "outputs": [],
   "source": [
    "import numpy as np\n",
    "from scipy import io\n",
    "from sklearn.mixture import GaussianMixture\n",
    "import os\n",
    "\n",
    "import holoviews as hv; hv.extension('bokeh', 'plotly', logo=False)\n",
    "from holoviews.operation import contours as hv_contours\n",
    "import panel as pn;     pn.extension()\n",
    "import plotly.graph_objs as go"
   ]
  },
  {
   "cell_type": "code",
   "execution_count": null,
   "metadata": {},
   "outputs": [],
   "source": [
    "dogdata_w_mat = io.loadmat(os.path.join('..','DATA','dogData_w.mat'))\n",
    "catdata_w_mat = io.loadmat(os.path.join('..','DATA','catData_w.mat'))\n",
    "\n",
    "dog_wave      = dogdata_w_mat['dog_wave']\n",
    "cat_wave      = catdata_w_mat['cat_wave']\n",
    "\n",
    "CD            = np.concatenate((dog_wave,cat_wave),axis=1)\n",
    "\n",
    "u,s,vT        = np.linalg.svd(CD-np.mean(CD),full_matrices=0)\n",
    "v             = vT.T"
   ]
  },
  {
   "cell_type": "code",
   "execution_count": null,
   "metadata": {},
   "outputs": [],
   "source": [
    "dogcat  = v[:,(1,3)]\n",
    "GMModel = GaussianMixture(n_components=2).fit(dogcat)\n",
    "AIC     = GMModel.aic(dogcat)\n",
    "\n",
    "x       = np.linspace(-0.15, 0.25)\n",
    "y       = np.linspace(-0.25, 0.2)\n",
    "X, Y    = np.meshgrid(x, y)\n",
    "XX      = np.array([X.ravel(), Y.ravel()]).T\n",
    "Z       = np.exp(GMModel.score_samples(XX))\n",
    "Z       = Z.reshape(X.shape)\n",
    "\n",
    "\n",
    "h_pts   = hv.Scatter((v[:80,1],v[:80,3])).opts(color='red', size=5) *\\\n",
    "          hv.Scatter((v[80:,1],v[80:,3])).opts(color='darkgreen', size=5)\n",
    "\n",
    "(hv_contours(hv.Image((x,y,Z)))*h_pts).opts(show_legend=False, width=500, height=500)"
   ]
  },
  {
   "cell_type": "code",
   "execution_count": null,
   "metadata": {},
   "outputs": [],
   "source": [
    "hv.output( backend='plotly', size=100 )\n",
    "\n",
    "def plot_wireframe(xx, yy, z, color='#0066FF', linewidth=1, title=''):\n",
    "    line_marker = dict(color=color, width=linewidth)\n",
    "    lines = []\n",
    "    for i, j, k in zip(xx, yy, z):\n",
    "        lines.append(go.Scatter3d(x=i, y=j, z=k, mode='lines', line=line_marker))\n",
    "        \n",
    "    layout = go.Layout(showlegend=False, title=dict( text=title))\n",
    "    return go.Figure(data=lines, layout=layout)\n",
    "\n",
    "camera = dict(\n",
    "    up     = dict(x=0, y=0, z=1),\n",
    "    center = dict(x=0, y=0, z=0),\n",
    "    eye    = dict(x=3, y=-2, z=1.25)\n",
    ")\n",
    "\n",
    "\n",
    "fig = plot_wireframe(X, Y, Z)\n",
    "fig.update_layout(margin=dict(l=0, r=0, b=0, t=0), scene_camera=camera )\n",
    "\n",
    "pn.pane.Plotly(fig, width=200)"
   ]
  },
  {
   "cell_type": "code",
   "execution_count": null,
   "metadata": {},
   "outputs": [],
   "source": [
    "## AIC Scores\n",
    "AIC = np.zeros(4)\n",
    "GMModels = [GaussianMixture(k+1,covariance_type='diag',max_iter=500).fit(dogcat)\n",
    "          for k in range(4)]\n",
    "\n",
    "figs = []\n",
    "for j in range(4):\n",
    "    Z      = np.exp(GMModels[j].score_samples(XX))\n",
    "    Z      = Z.reshape(X.shape)\n",
    "    AIC[j] = GMModels[j].aic(dogcat)\n",
    "    fig    = plot_wireframe(X, Y, Z, title=f'AIC = {AIC[j]:.4}' )\n",
    "    fig.update_layout(margin=dict(l=0, r=0, b=0, t=0), scene_camera=camera ) # TODO: title???\n",
    "    figs.append(pn.pane.Plotly(fig, width=250, height=300))\n",
    "\n",
    "pn.Column( pn.Row(figs[0], figs[1]), pn.Row(figs[2],figs[3]))"
   ]
  }
 ],
 "metadata": {
  "kernelspec": {
   "display_name": "Python 3 (ipykernel)",
   "language": "python",
   "name": "python3"
  },
  "language_info": {
   "codemirror_mode": {
    "name": "ipython",
    "version": 3
   },
   "file_extension": ".py",
   "mimetype": "text/x-python",
   "name": "python",
   "nbconvert_exporter": "python",
   "pygments_lexer": "ipython3",
   "version": "3.10.4"
  }
 },
 "nbformat": 4,
 "nbformat_minor": 4
}

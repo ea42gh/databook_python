{
 "cells": [
  {
   "cell_type": "code",
   "execution_count": null,
   "metadata": {},
   "outputs": [],
   "source": [
    "import numpy as np\n",
    "\n",
    "import holoviews as hv; hv.extension('bokeh', logo=False)"
   ]
  },
  {
   "cell_type": "code",
   "execution_count": null,
   "metadata": {},
   "outputs": [],
   "source": [
    "n  = 10000\n",
    "x1 = np.random.randn(n)                     # \"truth\" model (data)\n",
    "x2 = 0.8 * np.random.randn(n) + 1           # model 1\n",
    "x3 = 0.5 * np.random.randn(n) - 1           # model 3 components\n",
    "x4 = 0.7 * np.random.randn(n) - 3\n",
    "x5 = 5.0 * np.random.rand(n) - 0.5 \n",
    "\n",
    "x  = np.arange(-6,6.01,0.01)                # range for data\n",
    "x_bincenters = np.arange(-6.005,6.01,0.01)"
   ]
  },
  {
   "cell_type": "code",
   "execution_count": null,
   "metadata": {},
   "outputs": [],
   "source": [
    "f   = np.histogram(x1,bins=x_bincenters)[0] + 0.01  # generate PDFs\n",
    "g1  = np.histogram(x2,bins=x_bincenters)[0] + 0.01\n",
    "g2a = np.histogram(x3,bins=x_bincenters)[0]\n",
    "g2b = np.histogram(x4,bins=x_bincenters)[0]\n",
    "\n",
    "g2  = g2a + 0.3*g2b + 0.01\n",
    "g3  = np.histogram(x5,bins=x_bincenters)[0] + 0.01\n",
    "\n",
    "f  = f  / np.trapz(f, x)                            # normalize data\n",
    "g1 = g1 / np.trapz(g1,x)\n",
    "g2 = g2 / np.trapz(g2,x)\n",
    "g3 = g3 / np.trapz(g3,x)"
   ]
  },
  {
   "cell_type": "code",
   "execution_count": null,
   "metadata": {},
   "outputs": [],
   "source": [
    "h=\\\n",
    "hv.Curve((x,f), label='f').opts(width=500)*\\\n",
    "hv.Curve((x,g1), label='g1')*\\\n",
    "hv.Curve((x,g2), label='g2')*\\\n",
    "hv.Curve((x,g3), label='g3')\n",
    "\n",
    "h"
   ]
  },
  {
   "cell_type": "code",
   "execution_count": null,
   "metadata": {},
   "outputs": [],
   "source": [
    "# Compute integrand\n",
    "Int1 = f * np.log(np.divide(f,g1))\n",
    "Int2 = f * np.log(np.divide(f,g2))\n",
    "Int3 = f * np.log(np.divide(f,g3))\n",
    "\n",
    "# KL divergence\n",
    "I1 = np.trapz(Int1,x)\n",
    "I2 = np.trapz(Int2,x)\n",
    "I3 = np.trapz(Int3,x)"
   ]
  }
 ],
 "metadata": {
  "kernelspec": {
   "display_name": "Python 3 (ipykernel)",
   "language": "python",
   "name": "python3"
  },
  "language_info": {
   "codemirror_mode": {
    "name": "ipython",
    "version": 3
   },
   "file_extension": ".py",
   "mimetype": "text/x-python",
   "name": "python",
   "nbconvert_exporter": "python",
   "pygments_lexer": "ipython3",
   "version": "3.10.4"
  }
 },
 "nbformat": 4,
 "nbformat_minor": 4
}

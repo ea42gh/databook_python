{
 "cells": [
  {
   "cell_type": "code",
   "execution_count": null,
   "metadata": {},
   "outputs": [],
   "source": [
    "import numpy as np\n",
    "import scipy.optimize\n",
    "\n",
    "import holoviews as hv;  hv.extension('bokeh', logo=False)"
   ]
  },
  {
   "cell_type": "code",
   "execution_count": null,
   "metadata": {},
   "outputs": [],
   "source": [
    "# Function definitions\n",
    "def fit1(x0,t):\n",
    "    x,y=t\n",
    "    return np.max(np.abs(x0[0]*x + x0[1]-y))\n",
    "def fit2(x0,t):\n",
    "    x,y=t\n",
    "    return np.sum(np.abs(x0[0]*x + x0[1]-y))\n",
    "def fit3(x0,t):\n",
    "    x,y=t\n",
    "    return np.sum(np.power(np.abs(x0[0]*x + x0[1]-y),2))"
   ]
  },
  {
   "cell_type": "code",
   "execution_count": null,
   "metadata": {},
   "outputs": [],
   "source": [
    "# The data\n",
    "x = np.arange(1,11)\n",
    "y = np.array([0.2,0.5,0.3,3.5,1.0,1.5,1.8,2.0,2.3,2.2])\n",
    "t = (x,y)\n",
    "\n",
    "x0 = np.array([1,1])\n",
    "p1 = scipy.optimize.fmin(fit1,x0,args=(t,));\n",
    "p2 = scipy.optimize.fmin(fit2,x0,args=(t,));\n",
    "p3 = scipy.optimize.fmin(fit3,x0,args=(t,));\n",
    "\n",
    "xf = np.arange(0,11,0.1)\n",
    "y1 = np.polyval(p1,xf)\n",
    "y2 = np.polyval(p2,xf)\n",
    "y3 = np.polyval(p3,xf)"
   ]
  },
  {
   "cell_type": "code",
   "execution_count": null,
   "metadata": {},
   "outputs": [],
   "source": [
    "h=\\\n",
    "hv.Curve((xf,y1), label='E_infinity')*\\\n",
    "hv.Curve((xf,y2), label='E_1')*\\\n",
    "hv.Curve((xf,y3), label='E_2')*\\\n",
    "hv.Scatter((x,y)).opts(color='black', size=6)\n",
    "\n",
    "h.opts(width=600, legend_position = 'right')"
   ]
  },
  {
   "cell_type": "code",
   "execution_count": null,
   "metadata": {},
   "outputs": [],
   "source": [
    "x = np.arange(1,11)\n",
    "y = np.array([0.2,0.5,0.3,0.7,1.0,1.5,1.8,2.0,2.3,2.2])\n",
    "t = (x,y)\n",
    "\n",
    "x0 = np.array([1,1])\n",
    "p1 = scipy.optimize.fmin(fit1,x0,args=(t,));\n",
    "p2 = scipy.optimize.fmin(fit2,x0,args=(t,));\n",
    "p3 = scipy.optimize.fmin(fit3,x0,args=(t,));\n",
    "\n",
    "xf = np.arange(0,11,0.1)\n",
    "y1 = np.polyval(p1,xf)\n",
    "y2 = np.polyval(p2,xf)\n",
    "y3 = np.polyval(p3,xf)"
   ]
  },
  {
   "cell_type": "code",
   "execution_count": null,
   "metadata": {},
   "outputs": [],
   "source": [
    "h=\\\n",
    "hv.Curve((xf,y1), label='E_infinity')*\\\n",
    "hv.Curve((xf,y2), label='E_1')*\\\n",
    "hv.Curve((xf,y3), label='E_2')*\\\n",
    "hv.Scatter((x,y)).opts(color='black', size=6)\n",
    "\n",
    "h.opts(width=600, legend_position = 'right')"
   ]
  }
 ],
 "metadata": {
  "kernelspec": {
   "display_name": "Python 3 (ipykernel)",
   "language": "python",
   "name": "python3"
  },
  "language_info": {
   "codemirror_mode": {
    "name": "ipython",
    "version": 3
   },
   "file_extension": ".py",
   "mimetype": "text/x-python",
   "name": "python",
   "nbconvert_exporter": "python",
   "pygments_lexer": "ipython3",
   "version": "3.9.12"
  }
 },
 "nbformat": 4,
 "nbformat_minor": 4
}

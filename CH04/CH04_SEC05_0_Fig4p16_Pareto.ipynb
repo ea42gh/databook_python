{
 "cells": [
  {
   "cell_type": "code",
   "execution_count": null,
   "metadata": {},
   "outputs": [],
   "source": [
    "import numpy as np\n",
    "import holoviews as hv; hv.extension('bokeh', logo=False)"
   ]
  },
  {
   "cell_type": "code",
   "execution_count": null,
   "metadata": {},
   "outputs": [],
   "source": [
    "x  = np.arange(0.2,5,0.1)\n",
    "y  = np.divide(1,x)\n",
    "\n",
    "x2 = np.copy(x)\n",
    "n  = len(x2)\n",
    "y2 = np.divide(1,x2) + 0.5*np.random.randn(n)\n",
    "\n",
    "y3 = (np.tile(y2,(5,1)) + 2*np.random.rand(5,n) + 1)\n",
    "y3 = np.reshape(y3,-1)\n",
    "x3 = np.tile(x,(1,5)).reshape(-1)"
   ]
  },
  {
   "cell_type": "code",
   "execution_count": null,
   "metadata": {},
   "outputs": [],
   "source": [
    "hv.Curve((x,y)).opts(color='black', width=600, xlim=(0.2,4), ylim=(0,5.5)) *\\\n",
    "hv.Scatter( (x2,y2) ).opts(size=5) *\\\n",
    "hv.Scatter( (x3,y3) ).opts(size=5) *\\\n",
    "hv.Rectangles([(0.5,0.4, 1.4, 2.0)]).opts(color='black', alpha=0.2)"
   ]
  }
 ],
 "metadata": {
  "kernelspec": {
   "display_name": "Python 3 (ipykernel)",
   "language": "python",
   "name": "python3"
  },
  "language_info": {
   "codemirror_mode": {
    "name": "ipython",
    "version": 3
   },
   "file_extension": ".py",
   "mimetype": "text/x-python",
   "name": "python",
   "nbconvert_exporter": "python",
   "pygments_lexer": "ipython3",
   "version": "3.10.4"
  }
 },
 "nbformat": 4,
 "nbformat_minor": 4
}

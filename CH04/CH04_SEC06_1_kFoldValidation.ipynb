{
 "cells": [
  {
   "cell_type": "code",
   "execution_count": null,
   "metadata": {},
   "outputs": [],
   "source": [
    "import warnings\n",
    "warnings.filterwarnings('ignore')\n",
    "\n",
    "import numpy as np\n",
    "from sklearn import linear_model\n",
    "import holoviews as hv; hv.extension('bokeh', logo=False)"
   ]
  },
  {
   "cell_type": "code",
   "execution_count": null,
   "metadata": {},
   "outputs": [],
   "source": [
    "n    = 100\n",
    "L    = 4\n",
    "x    = np.linspace(0,L,n)\n",
    "f    = np.power(x,2) # parabola with 100 data points\n",
    "\n",
    "M    = 21 # Polynomial degree\n",
    "phi  = np.zeros((n,M))\n",
    "for j in range(M):\n",
    "    phi[:,j] = np.power(x,j) # build matrix A\n",
    "\n",
    "trials = np.array([2, 10, 100])"
   ]
  },
  {
   "cell_type": "code",
   "execution_count": null,
   "metadata": {},
   "outputs": [],
   "source": [
    "imgs = []\n",
    "for j in range(len(trials)):\n",
    "    trial = trials[j]\n",
    "    E1 = np.zeros(trial)\n",
    "    E2 = np.zeros(trial)\n",
    "    E3 = np.zeros(trial)\n",
    "    \n",
    "    A1 = np.zeros((M,trial))\n",
    "    A2 = np.zeros((M,trial))\n",
    "    A3 = np.zeros((M,trial))\n",
    "\n",
    "    \n",
    "    for jj in range(trial):\n",
    "        f      = np.power(x,2) + 0.2*np.random.randn(n)\n",
    "        a1     = np.linalg.pinv(np.copy(phi)) @ np.copy(f)\n",
    "        f1     = phi @ a1\n",
    "        E1[jj] = np.linalg.norm(f-f1,ord=2)/np.linalg.norm(f,ord=2)\n",
    "        \n",
    "        a2     = np.linalg.lstsq(np.copy(phi),np.copy(f),rcond=None)[0]\n",
    "        f2     = phi @ a2\n",
    "        E2[jj] = np.linalg.norm(f-f2,ord=2)/np.linalg.norm(f,ord=2)\n",
    "        \n",
    "#         regr3 = linear_model.ElasticNet(alpha=1.0, copy_X=True, l1_ratio=0.1, max_iter=10**5,random_state=0)\n",
    "        regr3 = linear_model.Lasso(alpha=1)\n",
    "        regr3.fit(phi, f)  \n",
    "        a3    = regr3.coef_\n",
    "        f3    = phi @ a3\n",
    "        E3[jj] = np.linalg.norm(f-f3,ord=2)/np.linalg.norm(f,ord=2)\n",
    "        \n",
    "        A1[:,jj] = a1\n",
    "        A2[:,jj] = a2\n",
    "        A3[:,jj] = a3\n",
    "        \n",
    "    A1m = np.mean(A1,axis=1)\n",
    "    A2m = np.mean(A2,axis=1)\n",
    "    A3m = np.mean(A3,axis=1)\n",
    "    \n",
    "    Err = np.column_stack((E1,E2,E3))\n",
    "\n",
    "    imgs.extend( [\n",
    "        hv.Spikes( (range(M), A1m), kdims=\"Index\", vdims=\"y\"),\n",
    "        hv.Spikes( (range(M), A2m), kdims=\"Index\", vdims=\"y\"),\n",
    "        hv.Spikes( (range(M), A3m), kdims=\"Index\", vdims=\"y\") ])\n",
    "\n",
    "hv.Layout( imgs ).opts( hv.opts.Spikes(width=250, height=150, yticks=3)).opts(shared_axes=False).cols(3)"
   ]
  },
  {
   "cell_type": "code",
   "execution_count": null,
   "metadata": {},
   "outputs": [],
   "source": [
    "Atot  = np.column_stack((A1m,A2m,A3m)) # Average loadings of three methods\n",
    "Atot2 = (Atot>0.2) * Atot # threshold\n",
    "Atot3 = np.column_stack((Atot,Atot2)) # combine both thresholded and not\n",
    "\n",
    "colors=['blue','red','green']\n",
    "\n",
    "h_u = hv.Overlay( [ hv.Spikes( (np.arange(Atot .shape[0])*4+j,Atot[:,j]), kdims=\"Index\", vdims=\"y\", label=f'A{j+1}m' ).opts(color=colors[j], line_color=colors[j]) for j in range(3)] ).opts(title='Unthresholded', legend_position='right')\n",
    "h_t = hv.Overlay( [ hv.Spikes( (np.arange(Atot .shape[0])*8+j,Atot[:,j]), kdims=\"Index\", vdims=\"y\", label=f'A{j+1}m' ).opts(color=colors[j], line_color=colors[j]) for j in range(3)] ).opts(title=  'Thresholded', legend_position='right')\n",
    "\n",
    "(h_u+h_t).opts(width=500, shared_axes=False).opts(hv.opts.Spikes(width=600, line_width=2, xlim=(0,90))).cols(1)"
   ]
  },
  {
   "cell_type": "code",
   "execution_count": null,
   "metadata": {},
   "outputs": [],
   "source": [
    "n      = 200\n",
    "L      = 8\n",
    "\n",
    "x      = np.linspace(0,L,n)\n",
    "x1     = x[:100]                   # Train\n",
    "x2     = x[100:200]                # Test\n",
    "n1     = len(x1)\n",
    "n2     = len(x2)\n",
    "\n",
    "ftrain = np.power(x1,2)            # Train parabola x = [0,4]\n",
    "ftest  = np.power(x2,2)            # Test  parabola x = [4,8]\n",
    "\n",
    "phi_i = np.zeros((n1,M))\n",
    "phi_e = np.zeros((n2,M))\n",
    "\n",
    "for j in range(M):\n",
    "    phi_i[:,j] = np.power(x1,j)    # interpolation key\n",
    "    phi_e[:,j] = np.power(x2,j)    # extrapolation key\n",
    "    \n",
    "Eni = np.zeros(6)\n",
    "Ene = np.zeros(6)\n",
    "for jj in range(6):                # compute inter/extra-polation scores\n",
    "    ani     = Atot3[:,jj]\n",
    "    fnai    = phi_i @ ani\n",
    "    Eni[jj] = np.linalg.norm(ftrain-fnai,ord=2)/np.linalg.norm(ftrain,ord=2)\n",
    "    fnae    = phi_e @ ani\n",
    "    Ene[jj] = np.linalg.norm(ftest-fnae,ord=2)/np.linalg.norm(ftest,ord=2)"
   ]
  },
  {
   "cell_type": "code",
   "execution_count": null,
   "metadata": {},
   "outputs": [],
   "source": [
    "h=\\\n",
    "hv.Bars((range(6),Eni))+\\\n",
    "hv.Bars((range(6),Ene))+\\\n",
    "hv.Bars((range(6),Eni)).opts(xlim=(-0.5,6.5), ylim=(0,0.01))+\\\n",
    "hv.Bars((range(6),Ene)).opts(xlim=(-0.5,6.5), ylim=(0,0.10))\n",
    "\n",
    "h.opts(shared_axes=False).opts(hv.opts.Bars( width=300, height=180)).cols(2)"
   ]
  }
 ],
 "metadata": {
  "kernelspec": {
   "display_name": "Python 3 (ipykernel)",
   "language": "python",
   "name": "python3"
  },
  "language_info": {
   "codemirror_mode": {
    "name": "ipython",
    "version": 3
   },
   "file_extension": ".py",
   "mimetype": "text/x-python",
   "name": "python",
   "nbconvert_exporter": "python",
   "pygments_lexer": "ipython3",
   "version": "3.10.4"
  }
 },
 "nbformat": 4,
 "nbformat_minor": 4
}

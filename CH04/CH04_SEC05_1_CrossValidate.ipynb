{
 "cells": [
  {
   "cell_type": "code",
   "execution_count": null,
   "metadata": {},
   "outputs": [],
   "source": [
    "import numpy as np\n",
    "import pandas as pd\n",
    "\n",
    "import holoviews as hv; hv.extension('bokeh', logo=False)\n",
    "import hvplot.pandas"
   ]
  },
  {
   "cell_type": "code",
   "execution_count": null,
   "metadata": {},
   "outputs": [],
   "source": [
    "def box(dat, title=''):\n",
    "    df = pd.DataFrame( dat, columns=[str(i) for i in range(dat.shape[1])] )\n",
    "    return df.hvplot.box().opts(title=title)"
   ]
  },
  {
   "cell_type": "code",
   "execution_count": null,
   "metadata": {},
   "outputs": [],
   "source": [
    "n  = 200\n",
    "L  = 8\n",
    "x  = np.linspace(0,L,n)\n",
    "x1 = x[:100]    # Train\n",
    "x2 = x[100:200] # Test\n",
    "n1 = len(x1)\n",
    "n2 = len(x2)\n",
    "\n",
    "ftrain = np.power(x1,2)     # Train parabola x = [0,4]\n",
    "ftest  = np.power(x2,2)     # Test parabola x = [4,8]\n",
    "\n",
    "h=\\\n",
    "hv.Curve((x1,ftrain),label='Training Set').opts(width=500)*\\\n",
    "hv.Curve((x2,ftest),label='Test Set')\n",
    "h.opts(legend_position=\"top_left\")"
   ]
  },
  {
   "cell_type": "code",
   "execution_count": null,
   "metadata": {},
   "outputs": [],
   "source": [
    "M   = 30 # number of model terms\n",
    "Eni = np.zeros((100,M))\n",
    "Ene = np.zeros((100,M))\n",
    "for jj in range(M):\n",
    "    phi_i = np.zeros((n1,jj+1))\n",
    "    phi_e = np.zeros((n2,jj+1))\n",
    "    for j in range(jj):\n",
    "        phi_i[:,j] = np.power(x1,j) # interpolation key\n",
    "        phi_e[:,j] = np.power(x2,j) # extrapolation key\n",
    "    \n",
    "    f = np.power(x,2)\n",
    "    for j in range(100):\n",
    "        fni       = np.power(x1,2) + 0.1*np.random.randn(n1) # interpolation\n",
    "        fne       = np.power(x2,2) + 0.1*np.random.randn(n2) # extrapolation\n",
    "\n",
    "        ani       = np.linalg.pinv(phi_i) @ fni\n",
    "        fnai      = phi_i @ ani\n",
    "        Eni[j,jj] = np.linalg.norm(ftrain-fnai,ord=2)/np.linalg.norm(ftrain,ord=2)\n",
    "\n",
    "        fnae      = phi_e @ ani # use loadings from x in [0,4]\n",
    "        Ene[j,jj] = np.linalg.norm(ftest-fnae,ord=2)/np.linalg.norm(ftest,ord=2)"
   ]
  },
  {
   "cell_type": "code",
   "execution_count": null,
   "metadata": {},
   "outputs": [],
   "source": [
    "h=\\\n",
    "box(Eni).opts(ylim=(0,0.7))+box(Eni).opts(ylim=(0,0.02))+\\\n",
    "box(Ene).opts(ylim=(0,2e14))+box(np.log(Ene+1)).opts(ylim=(0,30))\n",
    "\n",
    "h.opts(shared_axes=False).cols(2)"
   ]
  }
 ],
 "metadata": {
  "kernelspec": {
   "display_name": "Python 3 (ipykernel)",
   "language": "python",
   "name": "python3"
  },
  "language_info": {
   "codemirror_mode": {
    "name": "ipython",
    "version": 3
   },
   "file_extension": ".py",
   "mimetype": "text/x-python",
   "name": "python",
   "nbconvert_exporter": "python",
   "pygments_lexer": "ipython3",
   "version": "3.10.4"
  }
 },
 "nbformat": 4,
 "nbformat_minor": 4
}

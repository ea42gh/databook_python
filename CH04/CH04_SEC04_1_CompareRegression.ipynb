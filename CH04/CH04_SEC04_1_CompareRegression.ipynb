{
 "cells": [
  {
   "cell_type": "code",
   "execution_count": null,
   "metadata": {},
   "outputs": [],
   "source": [
    "import warnings\n",
    "warnings.filterwarnings('ignore')"
   ]
  },
  {
   "cell_type": "code",
   "execution_count": null,
   "metadata": {},
   "outputs": [],
   "source": [
    "import numpy as np\n",
    "import pandas as pd\n",
    "from sklearn import linear_model\n",
    "\n",
    "import holoviews as hv; hv.extension('bokeh', logo=False)\n",
    "import panel as pn; pn.extension()\n",
    "import hvplot.pandas"
   ]
  },
  {
   "cell_type": "code",
   "execution_count": null,
   "metadata": {},
   "outputs": [],
   "source": [
    "n = 100\n",
    "L = 4\n",
    "x = np.linspace(0,L,n)\n",
    "f = np.power(x,2) # Parabola with 100 data points\n",
    "\n",
    "M = 20 # Polynomial degree\n",
    "\n",
    "phi = np.zeros((n,M))\n",
    "for j in range(M):\n",
    "    phi[:,j] = np.power(x,j) # Build matrix A\n",
    "\n",
    "imgs = []\n",
    "for j in range(4):\n",
    "    fn  = np.power(x,2) + 0.1*np.random.randn(*x.shape)\n",
    "    an  = np.linalg.pinv(phi) @ fn # Least-square fit\n",
    "    fna = phi @ an \n",
    "    En  = np.linalg.norm(f-fna,ord=2)/np.linalg.norm(f,ord=2)\n",
    "    imgs.append( hv.Spikes( (range(M),an), kdims=\"Index\", vdims=\"y_fit\") )\n",
    "\n",
    "pn.Column( hv.Curve( (x,f)).opts(width=400),\n",
    "          hv.Layout( imgs).opts(hv.opts.Spikes(height=200)).cols(2)\n",
    "         )"
   ]
  },
  {
   "cell_type": "code",
   "execution_count": null,
   "metadata": {},
   "outputs": [],
   "source": [
    "# Different regressions\n",
    "lam  = 0.1\n",
    "phi2 = phi[:,1:]\n",
    "E1 = np.zeros(100)\n",
    "E2 = np.zeros(100)\n",
    "E3 = np.zeros(100)\n",
    "E4 = np.zeros(100)\n",
    "E5 = np.zeros(100)\n",
    "E6 = np.zeros(100)\n",
    "\n",
    "A1 = np.zeros((M,100))\n",
    "A2 = np.zeros((M,100))\n",
    "A3 = np.zeros((M,100))\n",
    "A4 = np.zeros((M,100))\n",
    "A5 = np.zeros((M,100))\n",
    "A6 = np.zeros((M,100))\n",
    "\n",
    "paths = []\n",
    "for jj in range(100):\n",
    "# for jj in range(10):\n",
    "    f = np.power(x,2)+0.2*np.random.randn(n)\n",
    "    \n",
    "    a1 = np.linalg.pinv(phi) @ f\n",
    "    f1 = phi @ a1\n",
    "    E1[jj] = np.linalg.norm(f-f1,ord=2)/np.linalg.norm(f,ord=2)\n",
    "    \n",
    "    a2 = np.linalg.lstsq(phi,f,rcond=None)[0]\n",
    "    f2 = phi @ a2\n",
    "    E2[jj] = np.linalg.norm(f-f2,ord=2)/np.linalg.norm(f,ord=2)\n",
    "    \n",
    "    regr3 = linear_model.ElasticNet(alpha=1.0, copy_X=True, l1_ratio=lam, max_iter=10**5,random_state=0)\n",
    "    regr3.fit(phi, f)  \n",
    "    a3 = regr3.coef_\n",
    "    f3 = phi @ a3\n",
    "    E3[jj] = np.linalg.norm(f-f3,ord=2)/np.linalg.norm(f,ord=2)\n",
    "    \n",
    "    regr4 = linear_model.ElasticNet(alpha=0.8, copy_X=True, l1_ratio=lam, max_iter=10**5,random_state=0)\n",
    "    regr4.fit(phi, f)  \n",
    "    a4 = regr4.coef_\n",
    "    f4 = phi @ a4\n",
    "    E4[jj] = np.linalg.norm(f-f4,ord=2)/np.linalg.norm(f,ord=2)\n",
    "    \n",
    "    huber = linear_model.HuberRegressor().fit(phi, f) # matlab's robustfit() does not have an exact sklearn analogue\n",
    "    a5 = huber.coef_\n",
    "    f5 = phi @ a5\n",
    "    E5[jj] = np.linalg.norm(f-f5,ord=2)/np.linalg.norm(f,ord=2)\n",
    "\n",
    "    ridge = linear_model.Ridge(alpha=1.0).fit(phi,f)\n",
    "    a6 = ridge.coef_\n",
    "    f6 = phi @ a6\n",
    "    E6[jj] = np.linalg.norm(f-f6,ord=2)/np.linalg.norm(f,ord=2)\n",
    "\n",
    "    \n",
    "    A1[:,jj] = a1\n",
    "    A2[:,jj] = a2\n",
    "    A3[:,jj] = a3\n",
    "    A4[:,jj] = a4\n",
    "    A5[:,jj] = a5\n",
    "    A6[:,jj] = a6\n",
    "\n",
    "    paths.append(f)\n",
    "    print(\".\", end=\"\")\n",
    "print()\n",
    "    \n",
    "Err  = np.column_stack((E1,E2,E3,E4,E5,E6))\n",
    "Err2 = np.column_stack((E1,E2,E3,E4,E5))\n",
    "\n",
    "hv.Path((x, np.array(paths).T)).opts(width=500)"
   ]
  },
  {
   "cell_type": "code",
   "execution_count": null,
   "metadata": {},
   "outputs": [],
   "source": [
    "def box(dat, title=''):\n",
    "    df = pd.DataFrame( dat, columns=[str(i) for i in range(dat.shape[1])] )\n",
    "    return df.hvplot.box().opts(title=title)\n",
    "\n",
    "h=box(A1.T,'pinv')+box(A2.T,'lstsq')+box(A3.T,'elastic (alpha=1)')+box(A4.T,'elastic (alpha=0.8)')+box(A5.T,'huber')+box(A6.T, 'ridge')\n",
    "\n",
    "h.opts(hv.opts.BoxWhisker(width=400)).opts(shared_axes=False).cols(2)"
   ]
  },
  {
   "cell_type": "code",
   "execution_count": null,
   "metadata": {},
   "outputs": [],
   "source": [
    "box(Err)"
   ]
  },
  {
   "cell_type": "code",
   "execution_count": null,
   "metadata": {},
   "outputs": [],
   "source": [
    "M   = 10\n",
    "En  = np.zeros((100,M))\n",
    "phi = np.zeros((len(x),M))\n",
    "for jj in range(M):\n",
    "    for j in range(jj):\n",
    "        phi[:,j] = np.power(x,j)\n",
    "    f = np.power(x,2)\n",
    "    for j in range(100):\n",
    "        fn       = np.power(x,2) + 0.1*np.random.randn(n)\n",
    "        an       = np.linalg.pinv(phi) @ fn\n",
    "        fna      = phi @ an\n",
    "        En[j,jj] = np.linalg.norm(f-fna,ord=2)/np.linalg.norm(f,ord=2)  "
   ]
  },
  {
   "cell_type": "code",
   "execution_count": null,
   "metadata": {},
   "outputs": [],
   "source": [
    "box(En)"
   ]
  },
  {
   "cell_type": "code",
   "execution_count": null,
   "metadata": {},
   "outputs": [],
   "source": []
  }
 ],
 "metadata": {
  "kernelspec": {
   "display_name": "Python 3 (ipykernel)",
   "language": "python",
   "name": "python3"
  },
  "language_info": {
   "codemirror_mode": {
    "name": "ipython",
    "version": 3
   },
   "file_extension": ".py",
   "mimetype": "text/x-python",
   "name": "python",
   "nbconvert_exporter": "python",
   "pygments_lexer": "ipython3",
   "version": "3.10.4"
  }
 },
 "nbformat": 4,
 "nbformat_minor": 4
}

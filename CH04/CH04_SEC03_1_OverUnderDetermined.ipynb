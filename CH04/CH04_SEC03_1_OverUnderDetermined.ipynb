{
 "cells": [
  {
   "cell_type": "code",
   "execution_count": null,
   "metadata": {},
   "outputs": [],
   "source": [
    "import numpy as np\n",
    "from scipy.optimize import minimize\n",
    "from scipy.optimize import fmin\n",
    "\n",
    "import holoviews as hv; hv.extension(\"bokeh\", logo=False)\n",
    "hv.opts.defaults(hv.opts.Image(cmap=\"hot\", width=600, colorbar=True))"
   ]
  },
  {
   "cell_type": "code",
   "execution_count": null,
   "metadata": {},
   "outputs": [],
   "source": [
    "# Underdetermined\n",
    "n = 20\n",
    "m = 100\n",
    "A = np.random.rand(n,m)\n",
    "b = np.random.rand(n)\n",
    "\n",
    "def two_norm(x):\n",
    "    return np.linalg.norm(x,ord=2)\n",
    "\n",
    "constr = ({'type': 'eq', 'fun': lambda x:  A @ x - b})\n",
    "x0     = np.random.rand(m)\n",
    "res    = minimize(two_norm, x0, method='SLSQP',constraints=constr)\n",
    "x2     = res.x\n",
    "\n",
    "def one_norm(x):\n",
    "    return np.linalg.norm(x,ord=1)\n",
    "\n",
    "res = minimize(one_norm, x0, method='SLSQP',constraints=constr)\n",
    "x1  = res.x"
   ]
  },
  {
   "cell_type": "code",
   "execution_count": null,
   "metadata": {},
   "outputs": [],
   "source": [
    "h=\\\n",
    "hv.Spikes((range(m),x2), kdims='x2', vdims='y2').opts(width=400, padding=0.001, line_width=2)+\\\n",
    "hv.Spikes((range(m),x1), kdims='x1', vdims='y1').opts(width=400, padding=0.001, line_width=2)+\\\n",
    "hv.Histogram( np.histogram(x2, 20, density=True) ).opts(fill_color='slateblue', alpha=0.4, width=400 )+\\\n",
    "hv.Histogram( np.histogram(x1, 20, density=True) ).opts(fill_color='slateblue', alpha=0.4, width=400 )\n",
    "\n",
    "h.cols(2)"
   ]
  },
  {
   "cell_type": "code",
   "execution_count": null,
   "metadata": {},
   "outputs": [],
   "source": [
    "# Overdetermined\n",
    "n = 500\n",
    "m = 100\n",
    "A = np.random.rand(n,m)\n",
    "b = np.random.rand(n)\n",
    "\n",
    "xdag = np.linalg.pinv(A)@b\n",
    "\n",
    "lam  = np.array([0, 0.1, 0.5])\n",
    "\n",
    "def reg_norm(x,A,b,lam):\n",
    "    return np.linalg.norm(A@x-b,ord=2) + lam*np.linalg.norm(x,ord=1)\n",
    "\n",
    "h_list=[]\n",
    "for j in range(len(lam)):\n",
    "    res = minimize(reg_norm,args=(A,b,lam[j]),x0=xdag)\n",
    "    x   = res.x\n",
    "    h_list.extend([ hv.Spikes((range(m),x), kdims='index', vdims=f'lam={lam[j]}').opts(width=400, height=200, padding=0.001, line_width=2),\n",
    "                    hv.Histogram( np.histogram(x, 20, density=True), kdims='x', vdims=hv.Dimension(f\"{j}\", label=\"Frequency\") ).opts(fill_color='slateblue', alpha=0.4, width=400, height=200 )])\n",
    "\n",
    "hv.Layout(h_list).cols(2)"
   ]
  },
  {
   "cell_type": "code",
   "execution_count": null,
   "metadata": {},
   "outputs": [],
   "source": [
    "## Matrix Overdetermined System\n",
    "n    = 300\n",
    "m    = 60\n",
    "p    = 20\n",
    "A    = np.random.rand(n,m)\n",
    "b    = np.random.rand(n,p)\n",
    "lam  = np.array([0,0.1])\n",
    "\n",
    "xdag = np.linalg.pinv(A)@b\n",
    "xdag = xdag.reshape(-1)\n",
    "\n",
    "def reg_norm_2d(x,A,b,lam,m,p):\n",
    "    # scipy minimize() does not accept multidimensional x\n",
    "    # To get around this, we pass x as a vector and reshape it\n",
    "    x = np.reshape(x,(m,p))\n",
    "    return np.linalg.norm(A@x-b,ord=2) + lam*np.linalg.norm(x,ord=1)"
   ]
  },
  {
   "cell_type": "code",
   "execution_count": null,
   "metadata": {},
   "outputs": [],
   "source": [
    "for j in range(len(lam)):\n",
    "    res = minimize(reg_norm_2d,args=(A,b,lam[j],m,p),x0=xdag)\n",
    "    x   = res.x\n",
    "    x   = x.reshape(m,p)\n",
    "    display( hv.Image(x.T, vdims='z' ).opts(title=f'lam={lam[j]}'))"
   ]
  }
 ],
 "metadata": {
  "kernelspec": {
   "display_name": "Python 3 (ipykernel)",
   "language": "python",
   "name": "python3"
  },
  "language_info": {
   "codemirror_mode": {
    "name": "ipython",
    "version": 3
   },
   "file_extension": ".py",
   "mimetype": "text/x-python",
   "name": "python",
   "nbconvert_exporter": "python",
   "pygments_lexer": "ipython3",
   "version": "3.10.4"
  }
 },
 "nbformat": 4,
 "nbformat_minor": 4
}
